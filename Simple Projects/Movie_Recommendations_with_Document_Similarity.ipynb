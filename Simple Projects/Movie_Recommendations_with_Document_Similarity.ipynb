{
  "nbformat": 4,
  "nbformat_minor": 0,
  "metadata": {
    "colab": {
      "name": "Movie Recommendations with Document Similarity.ipynb",
      "provenance": [],
      "authorship_tag": "ABX9TyOVfP4KJ9qo0lh49av+hPsz"
    },
    "kernelspec": {
      "name": "python3",
      "display_name": "Python 3"
    },
    "language_info": {
      "name": "python"
    }
  },
  "cells": [
    {
      "cell_type": "markdown",
      "metadata": {
        "id": "tWO6-4GE_39b"
      },
      "source": [
        "## Movie Recommendations with Document Similarity\n",
        "\n",
        "Recommender systems are one of the popular and most adopted applications of machine learning. They are typically used to recommend entities to users and these entites can be anything like products, movies, services and so on.\n",
        "\n",
        "Popular examples of recommendations include,\n",
        "\n",
        "- Amazon suggesting products on its website\n",
        "- Amazon Prime, Netflix, Hotstar recommending movies\\shows\n",
        "- YouTube recommending videos to watch\n",
        "\n",
        "Typically recommender systems can be implemented in three ways:\n",
        "\n",
        "- Simple Rule-based Recommenders: Typically based on specific global metrics and thresholds like movie popularity, global ratings etc.\n",
        "- Content-based Recommenders: This is based on providing similar entities based on a specific entity of interest. Content metadata can be used here like movie descriptions, genre, cast, director and so on\n",
        "- Collaborative filtering Recommenders: Here we don't need metadata but we try to predict recommendations and ratings based on past ratings of different users and specific items.\n",
        "\n",
        "We will be building a movie recommendation system here where based on data\\metadata pertaining to different movies, we try and recommend similar movies of interest!\n",
        "\n",
        "Since our focus in not really recommendation engines but NLP, we will be leveraging the text-based metadata for each movie to try and recommend similar movies based on specific movies of interest. This falls under content-based recommenders.\n",
        "\n",
        "## Install the Dependencies"
      ]
    },
    {
      "cell_type": "code",
      "metadata": {
        "colab": {
          "base_uri": "https://localhost:8080/"
        },
        "id": "P0YhCiq0_3KR",
        "outputId": "949f0d20-977f-4c7e-e947-c1be29eff587"
      },
      "source": [
        "!pip install textsearch\n",
        "!pip install contractions\n",
        "import nltk\n",
        "nltk.download('punkt')\n",
        "nltk.download('stopwords')"
      ],
      "execution_count": 1,
      "outputs": [
        {
          "output_type": "stream",
          "name": "stdout",
          "text": [
            "Collecting textsearch\n",
            "  Downloading textsearch-0.0.21-py2.py3-none-any.whl (7.5 kB)\n",
            "Collecting anyascii\n",
            "  Downloading anyascii-0.3.0-py3-none-any.whl (284 kB)\n",
            "\u001b[K     |████████████████████████████████| 284 kB 5.4 MB/s \n",
            "\u001b[?25hCollecting pyahocorasick\n",
            "  Downloading pyahocorasick-1.4.2.tar.gz (321 kB)\n",
            "\u001b[K     |████████████████████████████████| 321 kB 39.4 MB/s \n",
            "\u001b[?25hBuilding wheels for collected packages: pyahocorasick\n",
            "  Building wheel for pyahocorasick (setup.py) ... \u001b[?25l\u001b[?25hdone\n",
            "  Created wheel for pyahocorasick: filename=pyahocorasick-1.4.2-cp37-cp37m-linux_x86_64.whl size=85438 sha256=ceba6bc0000dcff1627f3d986dbdbcfd7634512d727ee3ef59043cf9cca70685\n",
            "  Stored in directory: /root/.cache/pip/wheels/25/19/a6/8f363d9939162782bb8439d886469756271abc01f76fbd790f\n",
            "Successfully built pyahocorasick\n",
            "Installing collected packages: pyahocorasick, anyascii, textsearch\n",
            "Successfully installed anyascii-0.3.0 pyahocorasick-1.4.2 textsearch-0.0.21\n",
            "Collecting contractions\n",
            "  Downloading contractions-0.0.55-py2.py3-none-any.whl (7.9 kB)\n",
            "Requirement already satisfied: textsearch>=0.0.21 in /usr/local/lib/python3.7/dist-packages (from contractions) (0.0.21)\n",
            "Requirement already satisfied: pyahocorasick in /usr/local/lib/python3.7/dist-packages (from textsearch>=0.0.21->contractions) (1.4.2)\n",
            "Requirement already satisfied: anyascii in /usr/local/lib/python3.7/dist-packages (from textsearch>=0.0.21->contractions) (0.3.0)\n",
            "Installing collected packages: contractions\n",
            "Successfully installed contractions-0.0.55\n",
            "[nltk_data] Downloading package punkt to /root/nltk_data...\n",
            "[nltk_data]   Unzipping tokenizers/punkt.zip.\n",
            "[nltk_data] Downloading package stopwords to /root/nltk_data...\n",
            "[nltk_data]   Unzipping corpora/stopwords.zip.\n"
          ]
        },
        {
          "output_type": "execute_result",
          "data": {
            "text/plain": [
              "True"
            ]
          },
          "metadata": {},
          "execution_count": 1
        }
      ]
    },
    {
      "cell_type": "markdown",
      "metadata": {
        "id": "laHdxYl7Ar0l"
      },
      "source": [
        "## Load and view data"
      ]
    },
    {
      "cell_type": "code",
      "metadata": {
        "colab": {
          "base_uri": "https://localhost:8080/"
        },
        "id": "RXaSBa6FAiws",
        "outputId": "62894678-fbd9-40a0-9751-342c3deefadc"
      },
      "source": [
        "import pandas as pd\n",
        "\n",
        "df = pd.read_csv('https://github.com/dipanjanS/nlp_workshop_dhs18/raw/master/Unit%2010%20-%20Project%208%20-%20Movie%20Recommendations%20with%20Document%20Similarity/tmdb_5000_movies.csv.gz', compression='gzip')\n",
        "df.info()"
      ],
      "execution_count": 2,
      "outputs": [
        {
          "output_type": "stream",
          "name": "stdout",
          "text": [
            "<class 'pandas.core.frame.DataFrame'>\n",
            "RangeIndex: 4803 entries, 0 to 4802\n",
            "Data columns (total 20 columns):\n",
            " #   Column                Non-Null Count  Dtype  \n",
            "---  ------                --------------  -----  \n",
            " 0   budget                4803 non-null   int64  \n",
            " 1   genres                4803 non-null   object \n",
            " 2   homepage              1712 non-null   object \n",
            " 3   id                    4803 non-null   int64  \n",
            " 4   keywords              4803 non-null   object \n",
            " 5   original_language     4803 non-null   object \n",
            " 6   original_title        4803 non-null   object \n",
            " 7   overview              4800 non-null   object \n",
            " 8   popularity            4803 non-null   float64\n",
            " 9   production_companies  4803 non-null   object \n",
            " 10  production_countries  4803 non-null   object \n",
            " 11  release_date          4802 non-null   object \n",
            " 12  revenue               4803 non-null   int64  \n",
            " 13  runtime               4801 non-null   float64\n",
            " 14  spoken_languages      4803 non-null   object \n",
            " 15  status                4803 non-null   object \n",
            " 16  tagline               3959 non-null   object \n",
            " 17  title                 4803 non-null   object \n",
            " 18  vote_average          4803 non-null   float64\n",
            " 19  vote_count            4803 non-null   int64  \n",
            "dtypes: float64(3), int64(4), object(13)\n",
            "memory usage: 750.6+ KB\n"
          ]
        }
      ]
    },
    {
      "cell_type": "code",
      "metadata": {
        "colab": {
          "base_uri": "https://localhost:8080/",
          "height": 452
        },
        "id": "Hp4WmK4RAtlL",
        "outputId": "c5204595-b1d4-48c3-fc0c-61e8d016c467"
      },
      "source": [
        "df.head(3)"
      ],
      "execution_count": 3,
      "outputs": [
        {
          "output_type": "execute_result",
          "data": {
            "text/html": [
              "<div>\n",
              "<style scoped>\n",
              "    .dataframe tbody tr th:only-of-type {\n",
              "        vertical-align: middle;\n",
              "    }\n",
              "\n",
              "    .dataframe tbody tr th {\n",
              "        vertical-align: top;\n",
              "    }\n",
              "\n",
              "    .dataframe thead th {\n",
              "        text-align: right;\n",
              "    }\n",
              "</style>\n",
              "<table border=\"1\" class=\"dataframe\">\n",
              "  <thead>\n",
              "    <tr style=\"text-align: right;\">\n",
              "      <th></th>\n",
              "      <th>budget</th>\n",
              "      <th>genres</th>\n",
              "      <th>homepage</th>\n",
              "      <th>id</th>\n",
              "      <th>keywords</th>\n",
              "      <th>original_language</th>\n",
              "      <th>original_title</th>\n",
              "      <th>overview</th>\n",
              "      <th>popularity</th>\n",
              "      <th>production_companies</th>\n",
              "      <th>production_countries</th>\n",
              "      <th>release_date</th>\n",
              "      <th>revenue</th>\n",
              "      <th>runtime</th>\n",
              "      <th>spoken_languages</th>\n",
              "      <th>status</th>\n",
              "      <th>tagline</th>\n",
              "      <th>title</th>\n",
              "      <th>vote_average</th>\n",
              "      <th>vote_count</th>\n",
              "    </tr>\n",
              "  </thead>\n",
              "  <tbody>\n",
              "    <tr>\n",
              "      <th>0</th>\n",
              "      <td>237000000</td>\n",
              "      <td>[{\"id\": 28, \"name\": \"Action\"}, {\"id\": 12, \"nam...</td>\n",
              "      <td>http://www.avatarmovie.com/</td>\n",
              "      <td>19995</td>\n",
              "      <td>[{\"id\": 1463, \"name\": \"culture clash\"}, {\"id\":...</td>\n",
              "      <td>en</td>\n",
              "      <td>Avatar</td>\n",
              "      <td>In the 22nd century, a paraplegic Marine is di...</td>\n",
              "      <td>150.437577</td>\n",
              "      <td>[{\"name\": \"Ingenious Film Partners\", \"id\": 289...</td>\n",
              "      <td>[{\"iso_3166_1\": \"US\", \"name\": \"United States o...</td>\n",
              "      <td>2009-12-10</td>\n",
              "      <td>2787965087</td>\n",
              "      <td>162.0</td>\n",
              "      <td>[{\"iso_639_1\": \"en\", \"name\": \"English\"}, {\"iso...</td>\n",
              "      <td>Released</td>\n",
              "      <td>Enter the World of Pandora.</td>\n",
              "      <td>Avatar</td>\n",
              "      <td>7.2</td>\n",
              "      <td>11800</td>\n",
              "    </tr>\n",
              "    <tr>\n",
              "      <th>1</th>\n",
              "      <td>300000000</td>\n",
              "      <td>[{\"id\": 12, \"name\": \"Adventure\"}, {\"id\": 14, \"...</td>\n",
              "      <td>http://disney.go.com/disneypictures/pirates/</td>\n",
              "      <td>285</td>\n",
              "      <td>[{\"id\": 270, \"name\": \"ocean\"}, {\"id\": 726, \"na...</td>\n",
              "      <td>en</td>\n",
              "      <td>Pirates of the Caribbean: At World's End</td>\n",
              "      <td>Captain Barbossa, long believed to be dead, ha...</td>\n",
              "      <td>139.082615</td>\n",
              "      <td>[{\"name\": \"Walt Disney Pictures\", \"id\": 2}, {\"...</td>\n",
              "      <td>[{\"iso_3166_1\": \"US\", \"name\": \"United States o...</td>\n",
              "      <td>2007-05-19</td>\n",
              "      <td>961000000</td>\n",
              "      <td>169.0</td>\n",
              "      <td>[{\"iso_639_1\": \"en\", \"name\": \"English\"}]</td>\n",
              "      <td>Released</td>\n",
              "      <td>At the end of the world, the adventure begins.</td>\n",
              "      <td>Pirates of the Caribbean: At World's End</td>\n",
              "      <td>6.9</td>\n",
              "      <td>4500</td>\n",
              "    </tr>\n",
              "    <tr>\n",
              "      <th>2</th>\n",
              "      <td>245000000</td>\n",
              "      <td>[{\"id\": 28, \"name\": \"Action\"}, {\"id\": 12, \"nam...</td>\n",
              "      <td>http://www.sonypictures.com/movies/spectre/</td>\n",
              "      <td>206647</td>\n",
              "      <td>[{\"id\": 470, \"name\": \"spy\"}, {\"id\": 818, \"name...</td>\n",
              "      <td>en</td>\n",
              "      <td>Spectre</td>\n",
              "      <td>A cryptic message from Bond’s past sends him o...</td>\n",
              "      <td>107.376788</td>\n",
              "      <td>[{\"name\": \"Columbia Pictures\", \"id\": 5}, {\"nam...</td>\n",
              "      <td>[{\"iso_3166_1\": \"GB\", \"name\": \"United Kingdom\"...</td>\n",
              "      <td>2015-10-26</td>\n",
              "      <td>880674609</td>\n",
              "      <td>148.0</td>\n",
              "      <td>[{\"iso_639_1\": \"fr\", \"name\": \"Fran\\u00e7ais\"},...</td>\n",
              "      <td>Released</td>\n",
              "      <td>A Plan No One Escapes</td>\n",
              "      <td>Spectre</td>\n",
              "      <td>6.3</td>\n",
              "      <td>4466</td>\n",
              "    </tr>\n",
              "  </tbody>\n",
              "</table>\n",
              "</div>"
            ],
            "text/plain": [
              "      budget  ... vote_count\n",
              "0  237000000  ...      11800\n",
              "1  300000000  ...       4500\n",
              "2  245000000  ...       4466\n",
              "\n",
              "[3 rows x 20 columns]"
            ]
          },
          "metadata": {},
          "execution_count": 3
        }
      ]
    },
    {
      "cell_type": "code",
      "metadata": {
        "colab": {
          "base_uri": "https://localhost:8080/"
        },
        "id": "9GO0ZwwwA0e6",
        "outputId": "c36bc60c-d212-4953-bcdd-22a5a2bfd211"
      },
      "source": [
        "\n",
        "df = df[['title', 'tagline', 'overview', 'popularity']]\n",
        "df.tagline.fillna('', inplace=True)\n",
        "df['description'] = df['tagline'].map(str) + ' ' + df['overview']\n",
        "df.dropna(inplace=True)\n",
        "df = df.sort_values(by=['popularity'], ascending=False)\n",
        "df.info()"
      ],
      "execution_count": 4,
      "outputs": [
        {
          "output_type": "stream",
          "name": "stdout",
          "text": [
            "<class 'pandas.core.frame.DataFrame'>\n",
            "Int64Index: 4800 entries, 546 to 4553\n",
            "Data columns (total 5 columns):\n",
            " #   Column       Non-Null Count  Dtype  \n",
            "---  ------       --------------  -----  \n",
            " 0   title        4800 non-null   object \n",
            " 1   tagline      4800 non-null   object \n",
            " 2   overview     4800 non-null   object \n",
            " 3   popularity   4800 non-null   float64\n",
            " 4   description  4800 non-null   object \n",
            "dtypes: float64(1), object(4)\n",
            "memory usage: 225.0+ KB\n"
          ]
        },
        {
          "output_type": "stream",
          "name": "stderr",
          "text": [
            "/usr/local/lib/python3.7/dist-packages/pandas/core/series.py:4536: SettingWithCopyWarning: \n",
            "A value is trying to be set on a copy of a slice from a DataFrame\n",
            "\n",
            "See the caveats in the documentation: https://pandas.pydata.org/pandas-docs/stable/user_guide/indexing.html#returning-a-view-versus-a-copy\n",
            "  downcast=downcast,\n",
            "/usr/local/lib/python3.7/dist-packages/ipykernel_launcher.py:4: SettingWithCopyWarning: \n",
            "A value is trying to be set on a copy of a slice from a DataFrame.\n",
            "Try using .loc[row_indexer,col_indexer] = value instead\n",
            "\n",
            "See the caveats in the documentation: https://pandas.pydata.org/pandas-docs/stable/user_guide/indexing.html#returning-a-view-versus-a-copy\n",
            "  after removing the cwd from sys.path.\n",
            "/usr/local/lib/python3.7/dist-packages/ipykernel_launcher.py:5: SettingWithCopyWarning: \n",
            "A value is trying to be set on a copy of a slice from a DataFrame\n",
            "\n",
            "See the caveats in the documentation: https://pandas.pydata.org/pandas-docs/stable/user_guide/indexing.html#returning-a-view-versus-a-copy\n",
            "  \"\"\"\n"
          ]
        }
      ]
    },
    {
      "cell_type": "code",
      "metadata": {
        "colab": {
          "base_uri": "https://localhost:8080/",
          "height": 204
        },
        "id": "G5e1fkhzBHQo",
        "outputId": "6b78e0c9-eef8-41d6-d30a-9a4f9ee37036"
      },
      "source": [
        "df.head()"
      ],
      "execution_count": 5,
      "outputs": [
        {
          "output_type": "execute_result",
          "data": {
            "text/html": [
              "<div>\n",
              "<style scoped>\n",
              "    .dataframe tbody tr th:only-of-type {\n",
              "        vertical-align: middle;\n",
              "    }\n",
              "\n",
              "    .dataframe tbody tr th {\n",
              "        vertical-align: top;\n",
              "    }\n",
              "\n",
              "    .dataframe thead th {\n",
              "        text-align: right;\n",
              "    }\n",
              "</style>\n",
              "<table border=\"1\" class=\"dataframe\">\n",
              "  <thead>\n",
              "    <tr style=\"text-align: right;\">\n",
              "      <th></th>\n",
              "      <th>title</th>\n",
              "      <th>tagline</th>\n",
              "      <th>overview</th>\n",
              "      <th>popularity</th>\n",
              "      <th>description</th>\n",
              "    </tr>\n",
              "  </thead>\n",
              "  <tbody>\n",
              "    <tr>\n",
              "      <th>546</th>\n",
              "      <td>Minions</td>\n",
              "      <td>Before Gru, they had a history of bad bosses</td>\n",
              "      <td>Minions Stuart, Kevin and Bob are recruited by...</td>\n",
              "      <td>875.581305</td>\n",
              "      <td>Before Gru, they had a history of bad bosses M...</td>\n",
              "    </tr>\n",
              "    <tr>\n",
              "      <th>95</th>\n",
              "      <td>Interstellar</td>\n",
              "      <td>Mankind was born on Earth. It was never meant ...</td>\n",
              "      <td>Interstellar chronicles the adventures of a gr...</td>\n",
              "      <td>724.247784</td>\n",
              "      <td>Mankind was born on Earth. It was never meant ...</td>\n",
              "    </tr>\n",
              "    <tr>\n",
              "      <th>788</th>\n",
              "      <td>Deadpool</td>\n",
              "      <td>Witness the beginning of a happy ending</td>\n",
              "      <td>Deadpool tells the origin story of former Spec...</td>\n",
              "      <td>514.569956</td>\n",
              "      <td>Witness the beginning of a happy ending Deadpo...</td>\n",
              "    </tr>\n",
              "    <tr>\n",
              "      <th>94</th>\n",
              "      <td>Guardians of the Galaxy</td>\n",
              "      <td>All heroes start somewhere.</td>\n",
              "      <td>Light years from Earth, 26 years after being a...</td>\n",
              "      <td>481.098624</td>\n",
              "      <td>All heroes start somewhere. Light years from E...</td>\n",
              "    </tr>\n",
              "    <tr>\n",
              "      <th>127</th>\n",
              "      <td>Mad Max: Fury Road</td>\n",
              "      <td>What a Lovely Day.</td>\n",
              "      <td>An apocalyptic story set in the furthest reach...</td>\n",
              "      <td>434.278564</td>\n",
              "      <td>What a Lovely Day. An apocalyptic story set in...</td>\n",
              "    </tr>\n",
              "  </tbody>\n",
              "</table>\n",
              "</div>"
            ],
            "text/plain": [
              "                       title  ...                                        description\n",
              "546                  Minions  ...  Before Gru, they had a history of bad bosses M...\n",
              "95              Interstellar  ...  Mankind was born on Earth. It was never meant ...\n",
              "788                 Deadpool  ...  Witness the beginning of a happy ending Deadpo...\n",
              "94   Guardians of the Galaxy  ...  All heroes start somewhere. Light years from E...\n",
              "127       Mad Max: Fury Road  ...  What a Lovely Day. An apocalyptic story set in...\n",
              "\n",
              "[5 rows x 5 columns]"
            ]
          },
          "metadata": {},
          "execution_count": 5
        }
      ]
    },
    {
      "cell_type": "markdown",
      "metadata": {
        "id": "PRd3tHXfBhLf"
      },
      "source": [
        "## Build a Movie Recommender System\n",
        "Here you will build your own movie recommender system. We will use the following pipeline:\n",
        "\n",
        "- Text pre-processing\n",
        "- Feature Engineering\n",
        "- Document Similarity Computation\n",
        "- Find top similar movies\n",
        "- Build a movie recommendation function\n",
        "\n",
        "## Document Similarity\n",
        "Recommendations are about understanding the underlying features which make us favour one choice over the other. Similarity between items(in this case movies) is one way to understanding why we choose one movie over another. There are different ways to calculate similarity between two items. One of the most widely used measures is cosine similarity which we have already used in the previous unit.\n",
        "\n",
        "### Cosine Similarity\n",
        "Cosine Similarity is used to calculate a numeric score to denote the similarity between two text documents. Mathematically, it is defined as follows:"
      ]
    },
    {
      "cell_type": "code",
      "metadata": {
        "colab": {
          "base_uri": "https://localhost:8080/"
        },
        "id": "COKCKZkpBMpf",
        "outputId": "1917533b-d7cc-47bb-dd51-38f158acf996"
      },
      "source": [
        "import nltk\n",
        "import re\n",
        "import numpy as np\n",
        "import contractions\n",
        "\n",
        "stop_words = nltk.corpus.stopwords.words('english')\n",
        "\n",
        "def normalize_document(doc):\n",
        "    # lower case and remove special characters\\whitespaces\n",
        "    doc = re.sub(r'[^a-zA-Z0-9\\s]', '', doc, re.I|re.A)\n",
        "    doc = doc.lower()\n",
        "    doc = doc.strip()\n",
        "    doc = contractions.fix(doc)\n",
        "    # tokenize document\n",
        "    tokens = nltk.word_tokenize(doc)\n",
        "    #filter stopwords out of document\n",
        "    filtered_tokens = [token for token in tokens if token not in stop_words]\n",
        "    # re-create document from filtered tokens\n",
        "    doc = ' '.join(filtered_tokens)\n",
        "    return doc\n",
        "\n",
        "normalize_corpus = np.vectorize(normalize_document)\n",
        "\n",
        "norm_corpus = normalize_corpus(list(df['description']))\n",
        "len(norm_corpus)"
      ],
      "execution_count": 6,
      "outputs": [
        {
          "output_type": "execute_result",
          "data": {
            "text/plain": [
              "4800"
            ]
          },
          "metadata": {},
          "execution_count": 6
        }
      ]
    },
    {
      "cell_type": "markdown",
      "metadata": {
        "id": "NGFijrNhCFmD"
      },
      "source": [
        "### Extract TF-IDF features"
      ]
    },
    {
      "cell_type": "code",
      "metadata": {
        "colab": {
          "base_uri": "https://localhost:8080/"
        },
        "id": "z4_TlmUUB9hS",
        "outputId": "781a9f6a-71b9-4520-d136-38bdefa58e39"
      },
      "source": [
        "from sklearn.feature_extraction.text import TfidfVectorizer\n",
        "\n",
        "tf = TfidfVectorizer(ngram_range=(1, 2), min_df=2)\n",
        "tfidf_matrix = tf.fit_transform(norm_corpus)\n",
        "tfidf_matrix.shape"
      ],
      "execution_count": 7,
      "outputs": [
        {
          "output_type": "execute_result",
          "data": {
            "text/plain": [
              "(4800, 20471)"
            ]
          },
          "metadata": {},
          "execution_count": 7
        }
      ]
    },
    {
      "cell_type": "markdown",
      "metadata": {
        "id": "dD5cHZCUCM0M"
      },
      "source": [
        "##Compute Pairwise Document Similarity"
      ]
    },
    {
      "cell_type": "code",
      "metadata": {
        "colab": {
          "base_uri": "https://localhost:8080/",
          "height": 253
        },
        "id": "5ksLRM5iCJXB",
        "outputId": "2a5d6ccb-692b-4d58-e7c5-1d3d51c42ad0"
      },
      "source": [
        "from sklearn.metrics.pairwise import cosine_similarity\n",
        "\n",
        "doc_sim = cosine_similarity(tfidf_matrix)\n",
        "doc_sim_df = pd.DataFrame(doc_sim)\n",
        "doc_sim_df.head()"
      ],
      "execution_count": 8,
      "outputs": [
        {
          "output_type": "execute_result",
          "data": {
            "text/html": [
              "<div>\n",
              "<style scoped>\n",
              "    .dataframe tbody tr th:only-of-type {\n",
              "        vertical-align: middle;\n",
              "    }\n",
              "\n",
              "    .dataframe tbody tr th {\n",
              "        vertical-align: top;\n",
              "    }\n",
              "\n",
              "    .dataframe thead th {\n",
              "        text-align: right;\n",
              "    }\n",
              "</style>\n",
              "<table border=\"1\" class=\"dataframe\">\n",
              "  <thead>\n",
              "    <tr style=\"text-align: right;\">\n",
              "      <th></th>\n",
              "      <th>0</th>\n",
              "      <th>1</th>\n",
              "      <th>2</th>\n",
              "      <th>3</th>\n",
              "      <th>4</th>\n",
              "      <th>5</th>\n",
              "      <th>6</th>\n",
              "      <th>7</th>\n",
              "      <th>8</th>\n",
              "      <th>9</th>\n",
              "      <th>10</th>\n",
              "      <th>11</th>\n",
              "      <th>12</th>\n",
              "      <th>13</th>\n",
              "      <th>14</th>\n",
              "      <th>15</th>\n",
              "      <th>16</th>\n",
              "      <th>17</th>\n",
              "      <th>18</th>\n",
              "      <th>19</th>\n",
              "      <th>20</th>\n",
              "      <th>21</th>\n",
              "      <th>22</th>\n",
              "      <th>23</th>\n",
              "      <th>24</th>\n",
              "      <th>25</th>\n",
              "      <th>26</th>\n",
              "      <th>27</th>\n",
              "      <th>28</th>\n",
              "      <th>29</th>\n",
              "      <th>30</th>\n",
              "      <th>31</th>\n",
              "      <th>32</th>\n",
              "      <th>33</th>\n",
              "      <th>34</th>\n",
              "      <th>35</th>\n",
              "      <th>36</th>\n",
              "      <th>37</th>\n",
              "      <th>38</th>\n",
              "      <th>39</th>\n",
              "      <th>...</th>\n",
              "      <th>4760</th>\n",
              "      <th>4761</th>\n",
              "      <th>4762</th>\n",
              "      <th>4763</th>\n",
              "      <th>4764</th>\n",
              "      <th>4765</th>\n",
              "      <th>4766</th>\n",
              "      <th>4767</th>\n",
              "      <th>4768</th>\n",
              "      <th>4769</th>\n",
              "      <th>4770</th>\n",
              "      <th>4771</th>\n",
              "      <th>4772</th>\n",
              "      <th>4773</th>\n",
              "      <th>4774</th>\n",
              "      <th>4775</th>\n",
              "      <th>4776</th>\n",
              "      <th>4777</th>\n",
              "      <th>4778</th>\n",
              "      <th>4779</th>\n",
              "      <th>4780</th>\n",
              "      <th>4781</th>\n",
              "      <th>4782</th>\n",
              "      <th>4783</th>\n",
              "      <th>4784</th>\n",
              "      <th>4785</th>\n",
              "      <th>4786</th>\n",
              "      <th>4787</th>\n",
              "      <th>4788</th>\n",
              "      <th>4789</th>\n",
              "      <th>4790</th>\n",
              "      <th>4791</th>\n",
              "      <th>4792</th>\n",
              "      <th>4793</th>\n",
              "      <th>4794</th>\n",
              "      <th>4795</th>\n",
              "      <th>4796</th>\n",
              "      <th>4797</th>\n",
              "      <th>4798</th>\n",
              "      <th>4799</th>\n",
              "    </tr>\n",
              "  </thead>\n",
              "  <tbody>\n",
              "    <tr>\n",
              "      <th>0</th>\n",
              "      <td>1.000000</td>\n",
              "      <td>0.000000</td>\n",
              "      <td>0.000000</td>\n",
              "      <td>0.000000</td>\n",
              "      <td>0.006071</td>\n",
              "      <td>0.008067</td>\n",
              "      <td>0.0</td>\n",
              "      <td>0.000000</td>\n",
              "      <td>0.0</td>\n",
              "      <td>0.000000</td>\n",
              "      <td>0.025531</td>\n",
              "      <td>0.008554</td>\n",
              "      <td>0.018111</td>\n",
              "      <td>0.000000</td>\n",
              "      <td>0.000000</td>\n",
              "      <td>0.000000</td>\n",
              "      <td>0.000000</td>\n",
              "      <td>0.007439</td>\n",
              "      <td>0.010454</td>\n",
              "      <td>0.000000</td>\n",
              "      <td>0.000000</td>\n",
              "      <td>0.008190</td>\n",
              "      <td>0.008365</td>\n",
              "      <td>0.010035</td>\n",
              "      <td>0.000000</td>\n",
              "      <td>0.000000</td>\n",
              "      <td>0.050976</td>\n",
              "      <td>0.006502</td>\n",
              "      <td>0.0</td>\n",
              "      <td>0.010728</td>\n",
              "      <td>0.0</td>\n",
              "      <td>0.006908</td>\n",
              "      <td>0.000000</td>\n",
              "      <td>0.167573</td>\n",
              "      <td>0.000000</td>\n",
              "      <td>0.000000</td>\n",
              "      <td>0.000000</td>\n",
              "      <td>0.000000</td>\n",
              "      <td>0.009191</td>\n",
              "      <td>0.053475</td>\n",
              "      <td>...</td>\n",
              "      <td>0.000000</td>\n",
              "      <td>0.009711</td>\n",
              "      <td>0.006508</td>\n",
              "      <td>0.000000</td>\n",
              "      <td>0.0</td>\n",
              "      <td>0.000000</td>\n",
              "      <td>0.0</td>\n",
              "      <td>0.02841</td>\n",
              "      <td>0.0</td>\n",
              "      <td>0.000000</td>\n",
              "      <td>0.000000</td>\n",
              "      <td>0.008870</td>\n",
              "      <td>0.000000</td>\n",
              "      <td>0.000000</td>\n",
              "      <td>0.000000</td>\n",
              "      <td>0.0</td>\n",
              "      <td>0.000000</td>\n",
              "      <td>0.000000</td>\n",
              "      <td>0.000000</td>\n",
              "      <td>0.000000</td>\n",
              "      <td>0.000000</td>\n",
              "      <td>0.000000</td>\n",
              "      <td>0.0</td>\n",
              "      <td>0.033246</td>\n",
              "      <td>0.0</td>\n",
              "      <td>0.000000</td>\n",
              "      <td>0.0000</td>\n",
              "      <td>0.000000</td>\n",
              "      <td>0.000000</td>\n",
              "      <td>0.034092</td>\n",
              "      <td>0.018758</td>\n",
              "      <td>0.000000</td>\n",
              "      <td>0.037930</td>\n",
              "      <td>0.0</td>\n",
              "      <td>0.000000</td>\n",
              "      <td>0.000000</td>\n",
              "      <td>0.000000</td>\n",
              "      <td>0.000000</td>\n",
              "      <td>0.000000</td>\n",
              "      <td>0.009646</td>\n",
              "    </tr>\n",
              "    <tr>\n",
              "      <th>1</th>\n",
              "      <td>0.000000</td>\n",
              "      <td>1.000000</td>\n",
              "      <td>0.000000</td>\n",
              "      <td>0.017839</td>\n",
              "      <td>0.007968</td>\n",
              "      <td>0.000000</td>\n",
              "      <td>0.0</td>\n",
              "      <td>0.012501</td>\n",
              "      <td>0.0</td>\n",
              "      <td>0.014840</td>\n",
              "      <td>0.000000</td>\n",
              "      <td>0.000000</td>\n",
              "      <td>0.000000</td>\n",
              "      <td>0.000000</td>\n",
              "      <td>0.012814</td>\n",
              "      <td>0.000000</td>\n",
              "      <td>0.000000</td>\n",
              "      <td>0.024144</td>\n",
              "      <td>0.000000</td>\n",
              "      <td>0.000000</td>\n",
              "      <td>0.000000</td>\n",
              "      <td>0.000000</td>\n",
              "      <td>0.000000</td>\n",
              "      <td>0.000000</td>\n",
              "      <td>0.008101</td>\n",
              "      <td>0.000000</td>\n",
              "      <td>0.000000</td>\n",
              "      <td>0.016898</td>\n",
              "      <td>0.0</td>\n",
              "      <td>0.017789</td>\n",
              "      <td>0.0</td>\n",
              "      <td>0.008885</td>\n",
              "      <td>0.009432</td>\n",
              "      <td>0.000000</td>\n",
              "      <td>0.000000</td>\n",
              "      <td>0.014947</td>\n",
              "      <td>0.000000</td>\n",
              "      <td>0.000000</td>\n",
              "      <td>0.000000</td>\n",
              "      <td>0.022738</td>\n",
              "      <td>...</td>\n",
              "      <td>0.000000</td>\n",
              "      <td>0.000000</td>\n",
              "      <td>0.019783</td>\n",
              "      <td>0.000000</td>\n",
              "      <td>0.0</td>\n",
              "      <td>0.000000</td>\n",
              "      <td>0.0</td>\n",
              "      <td>0.00000</td>\n",
              "      <td>0.0</td>\n",
              "      <td>0.000000</td>\n",
              "      <td>0.011407</td>\n",
              "      <td>0.011409</td>\n",
              "      <td>0.000000</td>\n",
              "      <td>0.011632</td>\n",
              "      <td>0.000000</td>\n",
              "      <td>0.0</td>\n",
              "      <td>0.000000</td>\n",
              "      <td>0.000000</td>\n",
              "      <td>0.000000</td>\n",
              "      <td>0.000000</td>\n",
              "      <td>0.000000</td>\n",
              "      <td>0.015329</td>\n",
              "      <td>0.0</td>\n",
              "      <td>0.008367</td>\n",
              "      <td>0.0</td>\n",
              "      <td>0.000000</td>\n",
              "      <td>0.0000</td>\n",
              "      <td>0.021596</td>\n",
              "      <td>0.000000</td>\n",
              "      <td>0.000000</td>\n",
              "      <td>0.000000</td>\n",
              "      <td>0.000000</td>\n",
              "      <td>0.017564</td>\n",
              "      <td>0.0</td>\n",
              "      <td>0.019152</td>\n",
              "      <td>0.000000</td>\n",
              "      <td>0.000000</td>\n",
              "      <td>0.000000</td>\n",
              "      <td>0.000000</td>\n",
              "      <td>0.007963</td>\n",
              "    </tr>\n",
              "    <tr>\n",
              "      <th>2</th>\n",
              "      <td>0.000000</td>\n",
              "      <td>0.000000</td>\n",
              "      <td>1.000000</td>\n",
              "      <td>0.000000</td>\n",
              "      <td>0.017178</td>\n",
              "      <td>0.000000</td>\n",
              "      <td>0.0</td>\n",
              "      <td>0.000000</td>\n",
              "      <td>0.0</td>\n",
              "      <td>0.024326</td>\n",
              "      <td>0.005471</td>\n",
              "      <td>0.018038</td>\n",
              "      <td>0.000000</td>\n",
              "      <td>0.000000</td>\n",
              "      <td>0.000000</td>\n",
              "      <td>0.005099</td>\n",
              "      <td>0.004985</td>\n",
              "      <td>0.004705</td>\n",
              "      <td>0.000000</td>\n",
              "      <td>0.004843</td>\n",
              "      <td>0.000000</td>\n",
              "      <td>0.017026</td>\n",
              "      <td>0.000000</td>\n",
              "      <td>0.003672</td>\n",
              "      <td>0.003984</td>\n",
              "      <td>0.030998</td>\n",
              "      <td>0.006959</td>\n",
              "      <td>0.000000</td>\n",
              "      <td>0.0</td>\n",
              "      <td>0.006117</td>\n",
              "      <td>0.0</td>\n",
              "      <td>0.019548</td>\n",
              "      <td>0.020365</td>\n",
              "      <td>0.009213</td>\n",
              "      <td>0.028467</td>\n",
              "      <td>0.010515</td>\n",
              "      <td>0.004198</td>\n",
              "      <td>0.006311</td>\n",
              "      <td>0.015154</td>\n",
              "      <td>0.012698</td>\n",
              "      <td>...</td>\n",
              "      <td>0.020597</td>\n",
              "      <td>0.004723</td>\n",
              "      <td>0.000000</td>\n",
              "      <td>0.016673</td>\n",
              "      <td>0.0</td>\n",
              "      <td>0.000000</td>\n",
              "      <td>0.0</td>\n",
              "      <td>0.00000</td>\n",
              "      <td>0.0</td>\n",
              "      <td>0.006625</td>\n",
              "      <td>0.000000</td>\n",
              "      <td>0.000000</td>\n",
              "      <td>0.006972</td>\n",
              "      <td>0.000000</td>\n",
              "      <td>0.010574</td>\n",
              "      <td>0.0</td>\n",
              "      <td>0.008222</td>\n",
              "      <td>0.008604</td>\n",
              "      <td>0.012782</td>\n",
              "      <td>0.015353</td>\n",
              "      <td>0.006259</td>\n",
              "      <td>0.000000</td>\n",
              "      <td>0.0</td>\n",
              "      <td>0.000000</td>\n",
              "      <td>0.0</td>\n",
              "      <td>0.010555</td>\n",
              "      <td>0.0000</td>\n",
              "      <td>0.000000</td>\n",
              "      <td>0.000000</td>\n",
              "      <td>0.000000</td>\n",
              "      <td>0.000000</td>\n",
              "      <td>0.006903</td>\n",
              "      <td>0.005024</td>\n",
              "      <td>0.0</td>\n",
              "      <td>0.012893</td>\n",
              "      <td>0.000000</td>\n",
              "      <td>0.025975</td>\n",
              "      <td>0.000000</td>\n",
              "      <td>0.027126</td>\n",
              "      <td>0.009340</td>\n",
              "    </tr>\n",
              "    <tr>\n",
              "      <th>3</th>\n",
              "      <td>0.000000</td>\n",
              "      <td>0.017839</td>\n",
              "      <td>0.000000</td>\n",
              "      <td>1.000000</td>\n",
              "      <td>0.000000</td>\n",
              "      <td>0.022414</td>\n",
              "      <td>0.0</td>\n",
              "      <td>0.000000</td>\n",
              "      <td>0.0</td>\n",
              "      <td>0.037207</td>\n",
              "      <td>0.000000</td>\n",
              "      <td>0.000000</td>\n",
              "      <td>0.000000</td>\n",
              "      <td>0.000000</td>\n",
              "      <td>0.027958</td>\n",
              "      <td>0.000000</td>\n",
              "      <td>0.000000</td>\n",
              "      <td>0.000000</td>\n",
              "      <td>0.000000</td>\n",
              "      <td>0.000000</td>\n",
              "      <td>0.000000</td>\n",
              "      <td>0.000000</td>\n",
              "      <td>0.012232</td>\n",
              "      <td>0.017893</td>\n",
              "      <td>0.043639</td>\n",
              "      <td>0.000000</td>\n",
              "      <td>0.000000</td>\n",
              "      <td>0.000000</td>\n",
              "      <td>0.0</td>\n",
              "      <td>0.023127</td>\n",
              "      <td>0.0</td>\n",
              "      <td>0.000000</td>\n",
              "      <td>0.000000</td>\n",
              "      <td>0.000000</td>\n",
              "      <td>0.000000</td>\n",
              "      <td>0.009324</td>\n",
              "      <td>0.022995</td>\n",
              "      <td>0.000000</td>\n",
              "      <td>0.000000</td>\n",
              "      <td>0.044476</td>\n",
              "      <td>...</td>\n",
              "      <td>0.000000</td>\n",
              "      <td>0.000000</td>\n",
              "      <td>0.014029</td>\n",
              "      <td>0.030562</td>\n",
              "      <td>0.0</td>\n",
              "      <td>0.000000</td>\n",
              "      <td>0.0</td>\n",
              "      <td>0.00000</td>\n",
              "      <td>0.0</td>\n",
              "      <td>0.000000</td>\n",
              "      <td>0.000000</td>\n",
              "      <td>0.000000</td>\n",
              "      <td>0.000000</td>\n",
              "      <td>0.000000</td>\n",
              "      <td>0.056761</td>\n",
              "      <td>0.0</td>\n",
              "      <td>0.000000</td>\n",
              "      <td>0.000000</td>\n",
              "      <td>0.000000</td>\n",
              "      <td>0.000000</td>\n",
              "      <td>0.000000</td>\n",
              "      <td>0.000000</td>\n",
              "      <td>0.0</td>\n",
              "      <td>0.000000</td>\n",
              "      <td>0.0</td>\n",
              "      <td>0.000000</td>\n",
              "      <td>0.0000</td>\n",
              "      <td>0.018486</td>\n",
              "      <td>0.000000</td>\n",
              "      <td>0.000000</td>\n",
              "      <td>0.000000</td>\n",
              "      <td>0.060846</td>\n",
              "      <td>0.025039</td>\n",
              "      <td>0.0</td>\n",
              "      <td>0.036237</td>\n",
              "      <td>0.030516</td>\n",
              "      <td>0.022605</td>\n",
              "      <td>0.000000</td>\n",
              "      <td>0.000000</td>\n",
              "      <td>0.000000</td>\n",
              "    </tr>\n",
              "    <tr>\n",
              "      <th>4</th>\n",
              "      <td>0.006071</td>\n",
              "      <td>0.007968</td>\n",
              "      <td>0.017178</td>\n",
              "      <td>0.000000</td>\n",
              "      <td>1.000000</td>\n",
              "      <td>0.004673</td>\n",
              "      <td>0.0</td>\n",
              "      <td>0.064581</td>\n",
              "      <td>0.0</td>\n",
              "      <td>0.000000</td>\n",
              "      <td>0.000000</td>\n",
              "      <td>0.036616</td>\n",
              "      <td>0.023883</td>\n",
              "      <td>0.014423</td>\n",
              "      <td>0.012317</td>\n",
              "      <td>0.019837</td>\n",
              "      <td>0.008171</td>\n",
              "      <td>0.004308</td>\n",
              "      <td>0.025463</td>\n",
              "      <td>0.000000</td>\n",
              "      <td>0.008909</td>\n",
              "      <td>0.023739</td>\n",
              "      <td>0.011343</td>\n",
              "      <td>0.003009</td>\n",
              "      <td>0.000000</td>\n",
              "      <td>0.026932</td>\n",
              "      <td>0.000000</td>\n",
              "      <td>0.010027</td>\n",
              "      <td>0.0</td>\n",
              "      <td>0.019560</td>\n",
              "      <td>0.0</td>\n",
              "      <td>0.028525</td>\n",
              "      <td>0.016020</td>\n",
              "      <td>0.011313</td>\n",
              "      <td>0.016914</td>\n",
              "      <td>0.022977</td>\n",
              "      <td>0.054149</td>\n",
              "      <td>0.013769</td>\n",
              "      <td>0.027401</td>\n",
              "      <td>0.005417</td>\n",
              "      <td>...</td>\n",
              "      <td>0.005089</td>\n",
              "      <td>0.015099</td>\n",
              "      <td>0.030763</td>\n",
              "      <td>0.013665</td>\n",
              "      <td>0.0</td>\n",
              "      <td>0.012626</td>\n",
              "      <td>0.0</td>\n",
              "      <td>0.00000</td>\n",
              "      <td>0.0</td>\n",
              "      <td>0.000000</td>\n",
              "      <td>0.027022</td>\n",
              "      <td>0.012027</td>\n",
              "      <td>0.005714</td>\n",
              "      <td>0.000000</td>\n",
              "      <td>0.017233</td>\n",
              "      <td>0.0</td>\n",
              "      <td>0.022330</td>\n",
              "      <td>0.007052</td>\n",
              "      <td>0.038019</td>\n",
              "      <td>0.011785</td>\n",
              "      <td>0.018614</td>\n",
              "      <td>0.021471</td>\n",
              "      <td>0.0</td>\n",
              "      <td>0.003768</td>\n",
              "      <td>0.0</td>\n",
              "      <td>0.008651</td>\n",
              "      <td>0.0095</td>\n",
              "      <td>0.000000</td>\n",
              "      <td>0.012751</td>\n",
              "      <td>0.000000</td>\n",
              "      <td>0.022064</td>\n",
              "      <td>0.019662</td>\n",
              "      <td>0.036561</td>\n",
              "      <td>0.0</td>\n",
              "      <td>0.015826</td>\n",
              "      <td>0.000000</td>\n",
              "      <td>0.076033</td>\n",
              "      <td>0.004516</td>\n",
              "      <td>0.043475</td>\n",
              "      <td>0.011465</td>\n",
              "    </tr>\n",
              "  </tbody>\n",
              "</table>\n",
              "<p>5 rows × 4800 columns</p>\n",
              "</div>"
            ],
            "text/plain": [
              "       0         1         2     ...      4797      4798      4799\n",
              "0  1.000000  0.000000  0.000000  ...  0.000000  0.000000  0.009646\n",
              "1  0.000000  1.000000  0.000000  ...  0.000000  0.000000  0.007963\n",
              "2  0.000000  0.000000  1.000000  ...  0.000000  0.027126  0.009340\n",
              "3  0.000000  0.017839  0.000000  ...  0.000000  0.000000  0.000000\n",
              "4  0.006071  0.007968  0.017178  ...  0.004516  0.043475  0.011465\n",
              "\n",
              "[5 rows x 4800 columns]"
            ]
          },
          "metadata": {},
          "execution_count": 8
        }
      ]
    },
    {
      "cell_type": "markdown",
      "metadata": {
        "id": "-K-YoPqdCgWy"
      },
      "source": [
        "## Get list of Movie titles"
      ]
    },
    {
      "cell_type": "code",
      "metadata": {
        "colab": {
          "base_uri": "https://localhost:8080/"
        },
        "id": "D7gvDpI3Cc8L",
        "outputId": "0cae51c3-bd2a-4da5-f9f1-2c1c2b98ac4d"
      },
      "source": [
        "movies_list = df['title'].values\n",
        "movies_list, movies_list.shape"
      ],
      "execution_count": 9,
      "outputs": [
        {
          "output_type": "execute_result",
          "data": {
            "text/plain": [
              "(array(['Minions', 'Interstellar', 'Deadpool', ..., 'Penitentiary',\n",
              "        'Alien Zone', 'America Is Still the Place'], dtype=object), (4800,))"
            ]
          },
          "metadata": {},
          "execution_count": 9
        }
      ]
    },
    {
      "cell_type": "markdown",
      "metadata": {
        "id": "bOngLdsqDp1F"
      },
      "source": [
        "## Find Top Similar Movies for a Sample Movie\n",
        "Let's take Minions the most popular movie the the dataframe above and try and find the most similar movies which can be recommended"
      ]
    },
    {
      "cell_type": "code",
      "metadata": {
        "colab": {
          "base_uri": "https://localhost:8080/"
        },
        "id": "fjVdiK1LDgkV",
        "outputId": "725889fe-a9bb-4dd4-89c1-f97293c0c1d8"
      },
      "source": [
        "# Find the Movie ID\n",
        "movie_idx = np.where(movies_list == 'Minions')[0][0]\n",
        "movie_idx"
      ],
      "execution_count": 10,
      "outputs": [
        {
          "output_type": "execute_result",
          "data": {
            "text/plain": [
              "0"
            ]
          },
          "metadata": {},
          "execution_count": 10
        }
      ]
    },
    {
      "cell_type": "code",
      "metadata": {
        "colab": {
          "base_uri": "https://localhost:8080/"
        },
        "id": "3q0lIumEEFvh",
        "outputId": "cf451e75-a729-4504-8844-b9f71779f76c"
      },
      "source": [
        "#Get movie similarities\n",
        "movie_similarities = doc_sim_df.iloc[movie_idx].values\n",
        "movie_similarities"
      ],
      "execution_count": 15,
      "outputs": [
        {
          "output_type": "execute_result",
          "data": {
            "text/plain": [
              "array([1.        , 0.        , 0.        , ..., 0.        , 0.        ,\n",
              "       0.00964646])"
            ]
          },
          "metadata": {},
          "execution_count": 15
        }
      ]
    },
    {
      "cell_type": "code",
      "metadata": {
        "colab": {
          "base_uri": "https://localhost:8080/"
        },
        "id": "oP6UtaTmEJJj",
        "outputId": "b87f33e0-0c19-4106-ca8e-b1742ec2c9e1"
      },
      "source": [
        "#Get top 5 similar movie ids\n",
        "\n",
        "similar_movie_idxs = np.argsort(-movie_similarities)[1:6]\n",
        "similar_movie_idxs"
      ],
      "execution_count": 16,
      "outputs": [
        {
          "output_type": "execute_result",
          "data": {
            "text/plain": [
              "array([ 33,  60, 737, 490, 298])"
            ]
          },
          "metadata": {},
          "execution_count": 16
        }
      ]
    },
    {
      "cell_type": "code",
      "metadata": {
        "colab": {
          "base_uri": "https://localhost:8080/"
        },
        "id": "ZvWlzxWuEgyt",
        "outputId": "596e1e15-bbe1-4a08-983a-c3f4a705b639"
      },
      "source": [
        "#Get top 5 similar movies\n",
        "similar_movies = movies_list[similar_movie_idxs]\n",
        "similar_movies"
      ],
      "execution_count": 17,
      "outputs": [
        {
          "output_type": "execute_result",
          "data": {
            "text/plain": [
              "array(['Despicable Me 2', 'Despicable Me',\n",
              "       'Teenage Mutant Ninja Turtles: Out of the Shadows', 'Superman',\n",
              "       'Rise of the Guardians'], dtype=object)"
            ]
          },
          "metadata": {},
          "execution_count": 17
        }
      ]
    },
    {
      "cell_type": "markdown",
      "metadata": {
        "id": "RGXPYR4wEwSu"
      },
      "source": [
        "##Build a movie recommender function to recommend top 5 similar movies for any movie\n",
        "The movie title, movie title list and document similarity matrix dataframe will be given as inputs to the function"
      ]
    },
    {
      "cell_type": "code",
      "metadata": {
        "id": "GluYYE9iEmpe"
      },
      "source": [
        "def movie_recommender(movie_title, movies=movies_list, doc_sims=doc_sim_df):\n",
        "    # find movie id\n",
        "    movie_idx = np.where(movies == movie_title)[0][0]\n",
        "    # get movie similarities\n",
        "    movie_similarities = doc_sims.iloc[movie_idx].values\n",
        "    # get top 5 similar movie IDs\n",
        "    similar_movie_idxs = np.argsort(-movie_similarities)[1:6]\n",
        "    # get top 5 movies\n",
        "    similar_movies = movies[similar_movie_idxs]\n",
        "    # return the top 5 movies\n",
        "    return similar_movies"
      ],
      "execution_count": 18,
      "outputs": []
    },
    {
      "cell_type": "markdown",
      "metadata": {
        "id": "BNcp5asvE5xo"
      },
      "source": [
        "## Get popular movie recommendations"
      ]
    },
    {
      "cell_type": "code",
      "metadata": {
        "id": "M43HLtGTE4C9"
      },
      "source": [
        "popular_movies = ['Minions', 'Interstellar', 'Deadpool', 'Jurassic World', 'Pirates of the Caribbean: The Curse of the Black Pearl',\n",
        "              'Dawn of the Planet of the Apes', 'The Hunger Games: Mockingjay - Part 1', 'Terminator Genisys', \n",
        "              'Captain America: Civil War', 'The Dark Knight', 'The Martian', 'Batman v Superman: Dawn of Justice', \n",
        "              'Pulp Fiction', 'The Godfather', 'The Shawshank Redemption', 'The Lord of the Rings: The Fellowship of the Ring',  \n",
        "              'Harry Potter and the Chamber of Secrets', 'Star Wars', 'The Hobbit: The Battle of the Five Armies',\n",
        "              'Iron Man']"
      ],
      "execution_count": 19,
      "outputs": []
    },
    {
      "cell_type": "code",
      "metadata": {
        "colab": {
          "base_uri": "https://localhost:8080/"
        },
        "id": "BOiSpwCVE_gN",
        "outputId": "da386ae1-2e33-401c-ec44-04686155fafb"
      },
      "source": [
        "\n",
        "for movie in popular_movies:\n",
        "    print('Movie:', movie)\n",
        "    print('Top 5 recommended Movies:', movie_recommender(movie_title=movie, movies=movies_list, doc_sims=doc_sim_df))\n",
        "    print()"
      ],
      "execution_count": 20,
      "outputs": [
        {
          "output_type": "stream",
          "name": "stdout",
          "text": [
            "Movie: Minions\n",
            "Top 5 recommended Movies: ['Despicable Me 2' 'Despicable Me'\n",
            " 'Teenage Mutant Ninja Turtles: Out of the Shadows' 'Superman'\n",
            " 'Rise of the Guardians']\n",
            "\n",
            "Movie: Interstellar\n",
            "Top 5 recommended Movies: ['Gattaca' 'Space Pirate Captain Harlock' 'Space Cowboys'\n",
            " 'Starship Troopers' 'Final Destination 2']\n",
            "\n",
            "Movie: Deadpool\n",
            "Top 5 recommended Movies: ['Silent Trigger' 'Underworld: Evolution' 'Bronson' 'Shaft' 'Don Jon']\n",
            "\n",
            "Movie: Jurassic World\n",
            "Top 5 recommended Movies: ['Jurassic Park' 'The Lost World: Jurassic Park'\n",
            " \"National Lampoon's Vacation\" 'The Nut Job' 'Vacation']\n",
            "\n",
            "Movie: Pirates of the Caribbean: The Curse of the Black Pearl\n",
            "Top 5 recommended Movies: [\"Pirates of the Caribbean: Dead Man's Chest\"\n",
            " 'Pirates of the Caribbean: On Stranger Tides' 'The Pirate'\n",
            " 'The Pirates! In an Adventure with Scientists!' 'Joyful Noise']\n",
            "\n",
            "Movie: Dawn of the Planet of the Apes\n",
            "Top 5 recommended Movies: ['Battle for the Planet of the Apes' 'Groove' 'The Other End of the Line'\n",
            " 'Chicago Overcoat' 'Definitely, Maybe']\n",
            "\n",
            "Movie: The Hunger Games: Mockingjay - Part 1\n",
            "Top 5 recommended Movies: ['The Hunger Games: Catching Fire' 'The Hunger Games: Mockingjay - Part 2'\n",
            " 'John Carter' 'For Greater Glory - The True Story of Cristiada'\n",
            " 'The Proposition']\n",
            "\n",
            "Movie: Terminator Genisys\n",
            "Top 5 recommended Movies: ['Terminator 2: Judgment Day' 'Terminator Salvation'\n",
            " 'Terminator 3: Rise of the Machines' 'Mad Max'\n",
            " 'X-Men: Days of Future Past']\n",
            "\n",
            "Movie: Captain America: Civil War\n",
            "Top 5 recommended Movies: ['Captain America: The Winter Soldier' 'This Means War'\n",
            " 'Avengers: Age of Ultron' 'Iron Man 2' 'Escape from Tomorrow']\n",
            "\n",
            "Movie: The Dark Knight\n",
            "Top 5 recommended Movies: ['The Dark Knight Rises' 'Batman Forever' 'Batman Returns'\n",
            " 'Batman: The Dark Knight Returns, Part 2' 'JFK']\n",
            "\n",
            "Movie: The Martian\n",
            "Top 5 recommended Movies: ['The Last Days on Mars' 'Swept Away' 'Alive' 'All Is Lost' 'Red Planet']\n",
            "\n",
            "Movie: Batman v Superman: Dawn of Justice\n",
            "Top 5 recommended Movies: ['Batman Returns' 'The Punisher' 'Defendor'\n",
            " 'Batman: The Dark Knight Returns, Part 2' 'Nowhere to Run']\n",
            "\n",
            "Movie: Pulp Fiction\n",
            "Top 5 recommended Movies: ['Sliding Doors' 'You Kill Me' 'New York Stories' 'Timecrimes'\n",
            " 'All or Nothing']\n",
            "\n",
            "Movie: The Godfather\n",
            "Top 5 recommended Movies: ['The Godfather: Part II' 'Blood Ties' 'Made' 'Lords of London'\n",
            " 'Easy Money']\n",
            "\n",
            "Movie: The Shawshank Redemption\n",
            "Top 5 recommended Movies: ['Civil Brand' 'Les Misérables' 'The Chorus' 'Prison' 'Fortress']\n",
            "\n",
            "Movie: The Lord of the Rings: The Fellowship of the Ring\n",
            "Top 5 recommended Movies: ['The Lord of the Rings: The Two Towers'\n",
            " 'The Hobbit: The Desolation of Smaug'\n",
            " 'The Lord of the Rings: The Return of the King'\n",
            " \"What's the Worst That Could Happen?\" 'The Hobbit: An Unexpected Journey']\n",
            "\n",
            "Movie: Harry Potter and the Chamber of Secrets\n",
            "Top 5 recommended Movies: ['Harry Potter and the Prisoner of Azkaban'\n",
            " 'Harry Potter and the Goblet of Fire'\n",
            " 'Harry Potter and the Order of the Phoenix'\n",
            " 'Harry Potter and the Half-Blood Prince'\n",
            " \"Harry Potter and the Philosopher's Stone\"]\n",
            "\n",
            "Movie: Star Wars\n",
            "Top 5 recommended Movies: ['The Empire Strikes Back' 'Return of the Jedi' 'Shrek the Third'\n",
            " 'The Ice Pirates' 'The Tale of Despereaux']\n",
            "\n",
            "Movie: The Hobbit: The Battle of the Five Armies\n",
            "Top 5 recommended Movies: ['The Hobbit: The Desolation of Smaug' 'The Hobbit: An Unexpected Journey'\n",
            " \"Dragon Nest: Warriors' Dawn\"\n",
            " 'A Funny Thing Happened on the Way to the Forum' 'X-Men: Apocalypse']\n",
            "\n",
            "Movie: Iron Man\n",
            "Top 5 recommended Movies: ['Iron Man 2' 'Avengers: Age of Ultron' 'Hostage' 'Iron Man 3'\n",
            " 'Baahubali: The Beginning']\n",
            "\n"
          ]
        }
      ]
    },
    {
      "cell_type": "code",
      "metadata": {
        "id": "KK4td3D2FFNW"
      },
      "source": [
        ""
      ],
      "execution_count": null,
      "outputs": []
    }
  ]
}