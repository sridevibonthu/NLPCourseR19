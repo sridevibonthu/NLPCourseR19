{
  "nbformat": 4,
  "nbformat_minor": 0,
  "metadata": {
    "colab": {
      "name": "Predicting_E_Commerce_Product_Recommendation_Ratings_from_Reviews.ipynb",
      "provenance": [],
      "authorship_tag": "ABX9TyOli74fcle/H9H76Pm2b9Rs"
    },
    "kernelspec": {
      "name": "python3",
      "display_name": "Python 3"
    },
    "language_info": {
      "name": "python"
    }
  },
  "cells": [
    {
      "cell_type": "markdown",
      "metadata": {
        "id": "t5j31JCaa7Dz"
      },
      "source": [
        "## Predicting E-Commerce Product Recommendation Ratings from Reviews\n",
        "\n",
        "This is a classic NLP problem dealing with data from an e-commerce store focusing on women's clothing. Each record in the dataset is a customer review which consists of the review title, text description and a rating (ranging from 1 - 5) for a product amongst other features\n",
        "\n",
        "We convert this into a binary classification problem such that a customer recommends a product (label 1) is the rating is > 3 else they do not recommend the product (label 0)\n",
        "\n",
        "Main Objective: Leverage the review text attributes to predict the recommendation rating (classification)\n",
        "\n",
        "## Load up basic dependencies"
      ]
    },
    {
      "cell_type": "code",
      "metadata": {
        "id": "EhFMz8MCaRMk"
      },
      "source": [
        "import numpy as np\n",
        "import pandas as pd\n",
        "\n",
        "from sklearn.metrics import confusion_matrix, classification_report"
      ],
      "execution_count": 1,
      "outputs": []
    },
    {
      "cell_type": "markdown",
      "metadata": {
        "id": "TDfiwdU8bf1Q"
      },
      "source": [
        "##Load and View the Dataset\n",
        "The data is available at https://www.kaggle.com/nicapotato/womens-ecommerce-clothing-reviews from where you can download it.\n",
        "\n",
        "It is recommended to use the kaggle API and the following command via CLI to get it.\n",
        "\n",
        "kaggle datasets download -d nicapotato/womens-ecommerce-clothing-reviews"
      ]
    },
    {
      "cell_type": "code",
      "metadata": {
        "colab": {
          "base_uri": "https://localhost:8080/",
          "height": 307
        },
        "id": "7exyHIfnbZCI",
        "outputId": "d905208e-9b2a-4a70-eb7d-6cdbf7d1fbf2"
      },
      "source": [
        "df = pd.read_csv('https://raw.githubusercontent.com/dipanjanS/feature_engineering_session_dhs18/master/ecommerce_product_ratings_prediction/Womens%20Clothing%20E-Commerce%20Reviews.csv', keep_default_na=False)\n",
        "df.head()"
      ],
      "execution_count": 2,
      "outputs": [
        {
          "output_type": "execute_result",
          "data": {
            "text/html": [
              "<div>\n",
              "<style scoped>\n",
              "    .dataframe tbody tr th:only-of-type {\n",
              "        vertical-align: middle;\n",
              "    }\n",
              "\n",
              "    .dataframe tbody tr th {\n",
              "        vertical-align: top;\n",
              "    }\n",
              "\n",
              "    .dataframe thead th {\n",
              "        text-align: right;\n",
              "    }\n",
              "</style>\n",
              "<table border=\"1\" class=\"dataframe\">\n",
              "  <thead>\n",
              "    <tr style=\"text-align: right;\">\n",
              "      <th></th>\n",
              "      <th>Unnamed: 0</th>\n",
              "      <th>Clothing ID</th>\n",
              "      <th>Age</th>\n",
              "      <th>Title</th>\n",
              "      <th>Review Text</th>\n",
              "      <th>Rating</th>\n",
              "      <th>Recommended IND</th>\n",
              "      <th>Positive Feedback Count</th>\n",
              "      <th>Division Name</th>\n",
              "      <th>Department Name</th>\n",
              "      <th>Class Name</th>\n",
              "    </tr>\n",
              "  </thead>\n",
              "  <tbody>\n",
              "    <tr>\n",
              "      <th>0</th>\n",
              "      <td>0</td>\n",
              "      <td>767</td>\n",
              "      <td>33</td>\n",
              "      <td></td>\n",
              "      <td>Absolutely wonderful - silky and sexy and comf...</td>\n",
              "      <td>4</td>\n",
              "      <td>1</td>\n",
              "      <td>0</td>\n",
              "      <td>Initmates</td>\n",
              "      <td>Intimate</td>\n",
              "      <td>Intimates</td>\n",
              "    </tr>\n",
              "    <tr>\n",
              "      <th>1</th>\n",
              "      <td>1</td>\n",
              "      <td>1080</td>\n",
              "      <td>34</td>\n",
              "      <td></td>\n",
              "      <td>Love this dress!  it's sooo pretty.  i happene...</td>\n",
              "      <td>5</td>\n",
              "      <td>1</td>\n",
              "      <td>4</td>\n",
              "      <td>General</td>\n",
              "      <td>Dresses</td>\n",
              "      <td>Dresses</td>\n",
              "    </tr>\n",
              "    <tr>\n",
              "      <th>2</th>\n",
              "      <td>2</td>\n",
              "      <td>1077</td>\n",
              "      <td>60</td>\n",
              "      <td>Some major design flaws</td>\n",
              "      <td>I had such high hopes for this dress and reall...</td>\n",
              "      <td>3</td>\n",
              "      <td>0</td>\n",
              "      <td>0</td>\n",
              "      <td>General</td>\n",
              "      <td>Dresses</td>\n",
              "      <td>Dresses</td>\n",
              "    </tr>\n",
              "    <tr>\n",
              "      <th>3</th>\n",
              "      <td>3</td>\n",
              "      <td>1049</td>\n",
              "      <td>50</td>\n",
              "      <td>My favorite buy!</td>\n",
              "      <td>I love, love, love this jumpsuit. it's fun, fl...</td>\n",
              "      <td>5</td>\n",
              "      <td>1</td>\n",
              "      <td>0</td>\n",
              "      <td>General Petite</td>\n",
              "      <td>Bottoms</td>\n",
              "      <td>Pants</td>\n",
              "    </tr>\n",
              "    <tr>\n",
              "      <th>4</th>\n",
              "      <td>4</td>\n",
              "      <td>847</td>\n",
              "      <td>47</td>\n",
              "      <td>Flattering shirt</td>\n",
              "      <td>This shirt is very flattering to all due to th...</td>\n",
              "      <td>5</td>\n",
              "      <td>1</td>\n",
              "      <td>6</td>\n",
              "      <td>General</td>\n",
              "      <td>Tops</td>\n",
              "      <td>Blouses</td>\n",
              "    </tr>\n",
              "  </tbody>\n",
              "</table>\n",
              "</div>"
            ],
            "text/plain": [
              "   Unnamed: 0  Clothing ID  Age  ...   Division Name Department Name  Class Name\n",
              "0           0          767   33  ...       Initmates        Intimate   Intimates\n",
              "1           1         1080   34  ...         General         Dresses     Dresses\n",
              "2           2         1077   60  ...         General         Dresses     Dresses\n",
              "3           3         1049   50  ...  General Petite         Bottoms       Pants\n",
              "4           4          847   47  ...         General            Tops     Blouses\n",
              "\n",
              "[5 rows x 11 columns]"
            ]
          },
          "metadata": {},
          "execution_count": 2
        }
      ]
    },
    {
      "cell_type": "markdown",
      "metadata": {
        "id": "-88kLgZzbvnn"
      },
      "source": [
        "##Basic Data Processing\n",
        "- Merge all review text attributes (title, text description) into one attribute\n",
        "- Convert the 5-star rating system into a binary recommendation rating of 1 or 0"
      ]
    },
    {
      "cell_type": "code",
      "metadata": {
        "colab": {
          "base_uri": "https://localhost:8080/",
          "height": 204
        },
        "id": "zPB4UyzcbnZ5",
        "outputId": "b22f1166-af9b-4974-d2e7-2417f84b1a3c"
      },
      "source": [
        "df['Review'] = (df['Title'].map(str) +' '+ df['Review Text']).apply(lambda row: row.strip())\n",
        "df['Rating'] = [1 if rating > 3 else 0 for rating in df['Rating']]\n",
        "df = df[['Review', 'Rating']]\n",
        "df.head()"
      ],
      "execution_count": 3,
      "outputs": [
        {
          "output_type": "execute_result",
          "data": {
            "text/html": [
              "<div>\n",
              "<style scoped>\n",
              "    .dataframe tbody tr th:only-of-type {\n",
              "        vertical-align: middle;\n",
              "    }\n",
              "\n",
              "    .dataframe tbody tr th {\n",
              "        vertical-align: top;\n",
              "    }\n",
              "\n",
              "    .dataframe thead th {\n",
              "        text-align: right;\n",
              "    }\n",
              "</style>\n",
              "<table border=\"1\" class=\"dataframe\">\n",
              "  <thead>\n",
              "    <tr style=\"text-align: right;\">\n",
              "      <th></th>\n",
              "      <th>Review</th>\n",
              "      <th>Rating</th>\n",
              "    </tr>\n",
              "  </thead>\n",
              "  <tbody>\n",
              "    <tr>\n",
              "      <th>0</th>\n",
              "      <td>Absolutely wonderful - silky and sexy and comf...</td>\n",
              "      <td>1</td>\n",
              "    </tr>\n",
              "    <tr>\n",
              "      <th>1</th>\n",
              "      <td>Love this dress!  it's sooo pretty.  i happene...</td>\n",
              "      <td>1</td>\n",
              "    </tr>\n",
              "    <tr>\n",
              "      <th>2</th>\n",
              "      <td>Some major design flaws I had such high hopes ...</td>\n",
              "      <td>0</td>\n",
              "    </tr>\n",
              "    <tr>\n",
              "      <th>3</th>\n",
              "      <td>My favorite buy! I love, love, love this jumps...</td>\n",
              "      <td>1</td>\n",
              "    </tr>\n",
              "    <tr>\n",
              "      <th>4</th>\n",
              "      <td>Flattering shirt This shirt is very flattering...</td>\n",
              "      <td>1</td>\n",
              "    </tr>\n",
              "  </tbody>\n",
              "</table>\n",
              "</div>"
            ],
            "text/plain": [
              "                                              Review  Rating\n",
              "0  Absolutely wonderful - silky and sexy and comf...       1\n",
              "1  Love this dress!  it's sooo pretty.  i happene...       1\n",
              "2  Some major design flaws I had such high hopes ...       0\n",
              "3  My favorite buy! I love, love, love this jumps...       1\n",
              "4  Flattering shirt This shirt is very flattering...       1"
            ]
          },
          "metadata": {},
          "execution_count": 3
        }
      ]
    },
    {
      "cell_type": "markdown",
      "metadata": {
        "id": "yK7VAtfDcF54"
      },
      "source": [
        "##Remove all records with no review text"
      ]
    },
    {
      "cell_type": "code",
      "metadata": {
        "colab": {
          "base_uri": "https://localhost:8080/"
        },
        "id": "VT_WVVy_cD3U",
        "outputId": "8630f4a6-a27f-4e26-dc6b-c2ec9c081132"
      },
      "source": [
        "df = df[df['Review'] != '']\n",
        "df.info()"
      ],
      "execution_count": 4,
      "outputs": [
        {
          "output_type": "stream",
          "name": "stdout",
          "text": [
            "<class 'pandas.core.frame.DataFrame'>\n",
            "Int64Index: 22642 entries, 0 to 23485\n",
            "Data columns (total 2 columns):\n",
            " #   Column  Non-Null Count  Dtype \n",
            "---  ------  --------------  ----- \n",
            " 0   Review  22642 non-null  object\n",
            " 1   Rating  22642 non-null  int64 \n",
            "dtypes: int64(1), object(1)\n",
            "memory usage: 530.7+ KB\n"
          ]
        }
      ]
    },
    {
      "cell_type": "markdown",
      "metadata": {
        "id": "guTDS4oVcUDR"
      },
      "source": [
        ""
      ]
    },
    {
      "cell_type": "markdown",
      "metadata": {
        "id": "sQZsLO_WcTaM"
      },
      "source": [
        "## There is some imbalance in the data based on product ratings"
      ]
    },
    {
      "cell_type": "code",
      "metadata": {
        "colab": {
          "base_uri": "https://localhost:8080/"
        },
        "id": "d6eY1Ai6cNSE",
        "outputId": "3b9fedeb-a63a-46d8-cf47-be67f478a155"
      },
      "source": [
        "df['Rating'].value_counts()"
      ],
      "execution_count": 5,
      "outputs": [
        {
          "output_type": "execute_result",
          "data": {
            "text/plain": [
              "1    17449\n",
              "0     5193\n",
              "Name: Rating, dtype: int64"
            ]
          },
          "metadata": {},
          "execution_count": 5
        }
      ]
    },
    {
      "cell_type": "markdown",
      "metadata": {
        "id": "xv65W4a3cZDL"
      },
      "source": [
        "##Build train and test datasets"
      ]
    },
    {
      "cell_type": "code",
      "metadata": {
        "colab": {
          "base_uri": "https://localhost:8080/"
        },
        "id": "VvzVF9IWcWzS",
        "outputId": "7f6b2c84-87ea-4d40-8a85-4359ab29763f"
      },
      "source": [
        "from sklearn.model_selection import train_test_split\n",
        "\n",
        "X_train, X_test, y_train, y_test = train_test_split(df[['Review']], df['Rating'], random_state=42)\n",
        "X_train.shape, X_test.shape"
      ],
      "execution_count": 6,
      "outputs": [
        {
          "output_type": "execute_result",
          "data": {
            "text/plain": [
              "((16981, 1), (5661, 1))"
            ]
          },
          "metadata": {},
          "execution_count": 6
        }
      ]
    },
    {
      "cell_type": "code",
      "metadata": {
        "colab": {
          "base_uri": "https://localhost:8080/"
        },
        "id": "zURfz7dOcdJ9",
        "outputId": "48c6498b-d08e-42f5-f0ee-6f96be0e3dc9"
      },
      "source": [
        "from collections import Counter\n",
        "Counter(y_train), Counter(y_test)"
      ],
      "execution_count": 7,
      "outputs": [
        {
          "output_type": "execute_result",
          "data": {
            "text/plain": [
              "(Counter({0: 3922, 1: 13059}), Counter({0: 1271, 1: 4390}))"
            ]
          },
          "metadata": {},
          "execution_count": 7
        }
      ]
    },
    {
      "cell_type": "markdown",
      "metadata": {
        "id": "Un_UZJ83ck0x"
      },
      "source": [
        "##Experiment 1: Basic NLP Count based Features\n",
        "A number of basic text based features can also be created which sometimes are helpful for improving text classification models. Some examples are:\n",
        "\n",
        "- Word Count: total number of words in the documents\n",
        "- Character Count: total number of characters in the documents\n",
        "- Average Word Density: average length of the words used in the documents\n",
        "- Puncutation Count: total number of punctuation marks in the documents\n",
        "- Upper Case Count: total number of upper count words in the documents\n",
        "- Title Word Count: total number of proper case (title) words in the documents\n",
        "\n",
        "Source: https://www.analyticsvidhya.com/blog/2018/04/a-comprehensive-guide-to-understand-and-implement-text-classification-in-python/"
      ]
    },
    {
      "cell_type": "code",
      "metadata": {
        "id": "lJ_o0I6echRw"
      },
      "source": [
        "import string\n",
        "\n",
        "X_train['char_count'] = X_train['Review'].apply(len)\n",
        "X_train['word_count'] = X_train['Review'].apply(lambda x: len(x.split()))\n",
        "X_train['word_density'] = X_train['char_count'] / (X_train['word_count']+1)\n",
        "X_train['punctuation_count'] = X_train['Review'].apply(lambda x: len(\"\".join(_ for _ in x if _ in string.punctuation))) \n",
        "X_train['title_word_count'] = X_train['Review'].apply(lambda x: len([wrd for wrd in x.split() if wrd.istitle()]))\n",
        "X_train['upper_case_word_count'] = X_train['Review'].apply(lambda x: len([wrd for wrd in x.split() if wrd.isupper()]))\n",
        "\n",
        "\n",
        "X_test['char_count'] = X_test['Review'].apply(len)\n",
        "X_test['word_count'] = X_test['Review'].apply(lambda x: len(x.split()))\n",
        "X_test['word_density'] = X_test['char_count'] / (X_test['word_count']+1)\n",
        "X_test['punctuation_count'] = X_test['Review'].apply(lambda x: len(\"\".join(_ for _ in x if _ in string.punctuation))) \n",
        "X_test['title_word_count'] = X_test['Review'].apply(lambda x: len([wrd for wrd in x.split() if wrd.istitle()]))\n",
        "X_test['upper_case_word_count'] = X_test['Review'].apply(lambda x: len([wrd for wrd in x.split() if wrd.isupper()]))"
      ],
      "execution_count": 8,
      "outputs": []
    },
    {
      "cell_type": "code",
      "metadata": {
        "colab": {
          "base_uri": "https://localhost:8080/",
          "height": 204
        },
        "id": "KUmi6iDucuo2",
        "outputId": "bc3234b1-b38c-4263-9d1c-c6166491035a"
      },
      "source": [
        "X_train.head()"
      ],
      "execution_count": 9,
      "outputs": [
        {
          "output_type": "execute_result",
          "data": {
            "text/html": [
              "<div>\n",
              "<style scoped>\n",
              "    .dataframe tbody tr th:only-of-type {\n",
              "        vertical-align: middle;\n",
              "    }\n",
              "\n",
              "    .dataframe tbody tr th {\n",
              "        vertical-align: top;\n",
              "    }\n",
              "\n",
              "    .dataframe thead th {\n",
              "        text-align: right;\n",
              "    }\n",
              "</style>\n",
              "<table border=\"1\" class=\"dataframe\">\n",
              "  <thead>\n",
              "    <tr style=\"text-align: right;\">\n",
              "      <th></th>\n",
              "      <th>Review</th>\n",
              "      <th>char_count</th>\n",
              "      <th>word_count</th>\n",
              "      <th>word_density</th>\n",
              "      <th>punctuation_count</th>\n",
              "      <th>title_word_count</th>\n",
              "      <th>upper_case_word_count</th>\n",
              "    </tr>\n",
              "  </thead>\n",
              "  <tbody>\n",
              "    <tr>\n",
              "      <th>12896</th>\n",
              "      <td>Soooo soft! This is a delightfully soft and fl...</td>\n",
              "      <td>268</td>\n",
              "      <td>52</td>\n",
              "      <td>5.056604</td>\n",
              "      <td>8</td>\n",
              "      <td>2</td>\n",
              "      <td>0</td>\n",
              "    </tr>\n",
              "    <tr>\n",
              "      <th>13183</th>\n",
              "      <td>Had my eye on this, but dind't get I finally v...</td>\n",
              "      <td>399</td>\n",
              "      <td>84</td>\n",
              "      <td>4.694118</td>\n",
              "      <td>20</td>\n",
              "      <td>2</td>\n",
              "      <td>1</td>\n",
              "    </tr>\n",
              "    <tr>\n",
              "      <th>1496</th>\n",
              "      <td>I wanted to like this... I wanted to like this...</td>\n",
              "      <td>525</td>\n",
              "      <td>104</td>\n",
              "      <td>5.000000</td>\n",
              "      <td>19</td>\n",
              "      <td>2</td>\n",
              "      <td>2</td>\n",
              "    </tr>\n",
              "    <tr>\n",
              "      <th>5205</th>\n",
              "      <td>Beautiful blouse Bought this for my daughter i...</td>\n",
              "      <td>203</td>\n",
              "      <td>35</td>\n",
              "      <td>5.638889</td>\n",
              "      <td>10</td>\n",
              "      <td>2</td>\n",
              "      <td>0</td>\n",
              "    </tr>\n",
              "    <tr>\n",
              "      <th>13366</th>\n",
              "      <td>Boxy. large. Boxy, unflattering, and large.\\n\\...</td>\n",
              "      <td>295</td>\n",
              "      <td>51</td>\n",
              "      <td>5.673077</td>\n",
              "      <td>22</td>\n",
              "      <td>2</td>\n",
              "      <td>0</td>\n",
              "    </tr>\n",
              "  </tbody>\n",
              "</table>\n",
              "</div>"
            ],
            "text/plain": [
              "                                                  Review  ...  upper_case_word_count\n",
              "12896  Soooo soft! This is a delightfully soft and fl...  ...                      0\n",
              "13183  Had my eye on this, but dind't get I finally v...  ...                      1\n",
              "1496   I wanted to like this... I wanted to like this...  ...                      2\n",
              "5205   Beautiful blouse Bought this for my daughter i...  ...                      0\n",
              "13366  Boxy. large. Boxy, unflattering, and large.\\n\\...  ...                      0\n",
              "\n",
              "[5 rows x 7 columns]"
            ]
          },
          "metadata": {},
          "execution_count": 9
        }
      ]
    },
    {
      "cell_type": "markdown",
      "metadata": {
        "id": "ZD-jjSF4c1eG"
      },
      "source": [
        "##Training a Logistic Regression Model\n",
        "A logistic regression model is easy to train, interpret and works well on a wide variety of NLP problems"
      ]
    },
    {
      "cell_type": "code",
      "metadata": {
        "id": "-cI6SeAAcv9d"
      },
      "source": [
        "from sklearn.linear_model import LogisticRegression\n",
        "\n",
        "lr = LogisticRegression(C=1, random_state=42, solver='liblinear')"
      ],
      "execution_count": 10,
      "outputs": []
    },
    {
      "cell_type": "markdown",
      "metadata": {
        "id": "1zfOyPYsc_WL"
      },
      "source": [
        "##Model Evaluation Metrics - Quick Refresher\n",
        "Just accuracy is never enough in datasets with a rare class problem.\n",
        "\n",
        "- Precision: The positive predictive power of a model. Out of all the predictions made by a model for a class, how many are actually correct\n",
        "- Recall: The coverage or hit-rate of a model. Out of all the test data samples belonging to a class, how many was the model able to predict (hit or cover) correctly.\n",
        "- F1-score: The harmonic mean of the precision and recall\n",
        "\n",
        "Do check out ROC Curve, AUC Score and PR Curve also"
      ]
    },
    {
      "cell_type": "code",
      "metadata": {
        "colab": {
          "base_uri": "https://localhost:8080/",
          "height": 327
        },
        "id": "LR2bDVo2c6n3",
        "outputId": "505ca8d7-e277-469d-a7f2-66f74e59692e"
      },
      "source": [
        "\n",
        "lr.fit(X_train.drop(['Review'], axis=1), y_train)\n",
        "predictions = lr.predict(X_test.drop(['Review'], axis=1))\n",
        "\n",
        "print(classification_report(y_test, predictions))\n",
        "pd.DataFrame(confusion_matrix(y_test, predictions))"
      ],
      "execution_count": 11,
      "outputs": [
        {
          "output_type": "stream",
          "name": "stdout",
          "text": [
            "              precision    recall  f1-score   support\n",
            "\n",
            "           0       0.00      0.00      0.00      1271\n",
            "           1       0.78      1.00      0.87      4390\n",
            "\n",
            "    accuracy                           0.78      5661\n",
            "   macro avg       0.39      0.50      0.44      5661\n",
            "weighted avg       0.60      0.78      0.68      5661\n",
            "\n"
          ]
        },
        {
          "output_type": "stream",
          "name": "stderr",
          "text": [
            "/usr/local/lib/python3.7/dist-packages/sklearn/metrics/_classification.py:1272: UndefinedMetricWarning: Precision and F-score are ill-defined and being set to 0.0 in labels with no predicted samples. Use `zero_division` parameter to control this behavior.\n",
            "  _warn_prf(average, modifier, msg_start, len(result))\n"
          ]
        },
        {
          "output_type": "execute_result",
          "data": {
            "text/html": [
              "<div>\n",
              "<style scoped>\n",
              "    .dataframe tbody tr th:only-of-type {\n",
              "        vertical-align: middle;\n",
              "    }\n",
              "\n",
              "    .dataframe tbody tr th {\n",
              "        vertical-align: top;\n",
              "    }\n",
              "\n",
              "    .dataframe thead th {\n",
              "        text-align: right;\n",
              "    }\n",
              "</style>\n",
              "<table border=\"1\" class=\"dataframe\">\n",
              "  <thead>\n",
              "    <tr style=\"text-align: right;\">\n",
              "      <th></th>\n",
              "      <th>0</th>\n",
              "      <th>1</th>\n",
              "    </tr>\n",
              "  </thead>\n",
              "  <tbody>\n",
              "    <tr>\n",
              "      <th>0</th>\n",
              "      <td>0</td>\n",
              "      <td>1271</td>\n",
              "    </tr>\n",
              "    <tr>\n",
              "      <th>1</th>\n",
              "      <td>0</td>\n",
              "      <td>4390</td>\n",
              "    </tr>\n",
              "  </tbody>\n",
              "</table>\n",
              "</div>"
            ],
            "text/plain": [
              "   0     1\n",
              "0  0  1271\n",
              "1  0  4390"
            ]
          },
          "metadata": {},
          "execution_count": 11
        }
      ]
    },
    {
      "cell_type": "markdown",
      "metadata": {
        "id": "rqFkm2x6dODw"
      },
      "source": [
        "Looks like our model was not able to predict a single product having a bad (no recommendation) rating, i.e. Class 0.\n",
        "\n",
        "This is as good as someone predicting a 1 or good for every product review.\n",
        "\n",
        "Can we do better?\n",
        "\n",
        "##Leveraging Text Sentiment\n",
        "Reviews are pretty subjective, opinionated and people often express stong emotions, feelings. This makes it a classic case where the text documents here are a good candidate for extracting sentiment as a feature.\n",
        "\n",
        "The general expectation is that highly rated and recommended products (label 1) should have a positive sentiment and products which are not recommended (label 0) should have a negative sentiment.\n",
        "\n",
        "TextBlob is an excellent open-source library for performing NLP tasks with ease, including sentiment analysis. It also an a sentiment lexicon (in the form of an XML file) which it leverages to give both polarity and subjectivity scores.\n",
        "\n",
        "- The polarity score is a float within the range [-1.0, 1.0].\n",
        "- The subjectivity is a float within the range [0.0, 1.0] where 0.0 is very objective and 1.0 is very subjective.\n",
        "\n",
        "Perhaps this could be used for getting some new features? Let's look at some basic examples.\n"
      ]
    },
    {
      "cell_type": "code",
      "metadata": {
        "colab": {
          "base_uri": "https://localhost:8080/"
        },
        "id": "waxPVgSGdJ4P",
        "outputId": "db44e3aa-a6b5-46a7-f249-4a57efe9b0cf"
      },
      "source": [
        "import textblob\n",
        "\n",
        "textblob.TextBlob('This is an AMAZING pair of Jeans!').sentiment"
      ],
      "execution_count": 12,
      "outputs": [
        {
          "output_type": "execute_result",
          "data": {
            "text/plain": [
              "Sentiment(polarity=0.7500000000000001, subjectivity=0.9)"
            ]
          },
          "metadata": {},
          "execution_count": 12
        }
      ]
    },
    {
      "cell_type": "code",
      "metadata": {
        "colab": {
          "base_uri": "https://localhost:8080/"
        },
        "id": "Kx_Lzp40dX2B",
        "outputId": "d730ad6e-b9b8-415b-91f2-ab84b92ff155"
      },
      "source": [
        "textblob.TextBlob('I really hated this UGLY T-shirt!!').sentiment"
      ],
      "execution_count": 13,
      "outputs": [
        {
          "output_type": "execute_result",
          "data": {
            "text/plain": [
              "Sentiment(polarity=-0.95, subjectivity=0.85)"
            ]
          },
          "metadata": {},
          "execution_count": 13
        }
      ]
    },
    {
      "cell_type": "markdown",
      "metadata": {
        "id": "HzWn5hKlddHQ"
      },
      "source": [
        "Looks like this should help us get features which can distinguish between good and bad products. Let's try it out on our dataset!\n",
        "\n",
        "##Experiment 2: Features from Sentiment Analysis\n",
        "\n",
        "Remember this is unsupervised, lexicon-based sentiment analysis where we don't have any pre-labeled data saying which review migth have a positive or negative sentiment. We use the lexicon to determine this."
      ]
    },
    {
      "cell_type": "code",
      "metadata": {
        "id": "GwJ9qG2JdW-g"
      },
      "source": [
        "x_train_snt_obj = X_train['Review'].apply(lambda row: textblob.TextBlob(row).sentiment)\n",
        "X_train['Polarity'] = [obj.polarity for obj in x_train_snt_obj.values]\n",
        "X_train['Subjectivity'] = [obj.subjectivity for obj in x_train_snt_obj.values]\n",
        "\n",
        "x_test_snt_obj = X_test['Review'].apply(lambda row: textblob.TextBlob(row).sentiment)\n",
        "X_test['Polarity'] = [obj.polarity for obj in x_test_snt_obj.values]\n",
        "X_test['Subjectivity'] = [obj.subjectivity for obj in x_test_snt_obj.values]"
      ],
      "execution_count": 14,
      "outputs": []
    },
    {
      "cell_type": "code",
      "metadata": {
        "colab": {
          "base_uri": "https://localhost:8080/",
          "height": 204
        },
        "id": "-UQ51rFCdhKk",
        "outputId": "f97b88b3-4fd3-422b-e01c-80d723989438"
      },
      "source": [
        "X_train.head()"
      ],
      "execution_count": 15,
      "outputs": [
        {
          "output_type": "execute_result",
          "data": {
            "text/html": [
              "<div>\n",
              "<style scoped>\n",
              "    .dataframe tbody tr th:only-of-type {\n",
              "        vertical-align: middle;\n",
              "    }\n",
              "\n",
              "    .dataframe tbody tr th {\n",
              "        vertical-align: top;\n",
              "    }\n",
              "\n",
              "    .dataframe thead th {\n",
              "        text-align: right;\n",
              "    }\n",
              "</style>\n",
              "<table border=\"1\" class=\"dataframe\">\n",
              "  <thead>\n",
              "    <tr style=\"text-align: right;\">\n",
              "      <th></th>\n",
              "      <th>Review</th>\n",
              "      <th>char_count</th>\n",
              "      <th>word_count</th>\n",
              "      <th>word_density</th>\n",
              "      <th>punctuation_count</th>\n",
              "      <th>title_word_count</th>\n",
              "      <th>upper_case_word_count</th>\n",
              "      <th>Polarity</th>\n",
              "      <th>Subjectivity</th>\n",
              "    </tr>\n",
              "  </thead>\n",
              "  <tbody>\n",
              "    <tr>\n",
              "      <th>12896</th>\n",
              "      <td>Soooo soft! This is a delightfully soft and fl...</td>\n",
              "      <td>268</td>\n",
              "      <td>52</td>\n",
              "      <td>5.056604</td>\n",
              "      <td>8</td>\n",
              "      <td>2</td>\n",
              "      <td>0</td>\n",
              "      <td>0.170455</td>\n",
              "      <td>0.490909</td>\n",
              "    </tr>\n",
              "    <tr>\n",
              "      <th>13183</th>\n",
              "      <td>Had my eye on this, but dind't get I finally v...</td>\n",
              "      <td>399</td>\n",
              "      <td>84</td>\n",
              "      <td>4.694118</td>\n",
              "      <td>20</td>\n",
              "      <td>2</td>\n",
              "      <td>1</td>\n",
              "      <td>0.101944</td>\n",
              "      <td>0.719537</td>\n",
              "    </tr>\n",
              "    <tr>\n",
              "      <th>1496</th>\n",
              "      <td>I wanted to like this... I wanted to like this...</td>\n",
              "      <td>525</td>\n",
              "      <td>104</td>\n",
              "      <td>5.000000</td>\n",
              "      <td>19</td>\n",
              "      <td>2</td>\n",
              "      <td>2</td>\n",
              "      <td>0.186538</td>\n",
              "      <td>0.458761</td>\n",
              "    </tr>\n",
              "    <tr>\n",
              "      <th>5205</th>\n",
              "      <td>Beautiful blouse Bought this for my daughter i...</td>\n",
              "      <td>203</td>\n",
              "      <td>35</td>\n",
              "      <td>5.638889</td>\n",
              "      <td>10</td>\n",
              "      <td>2</td>\n",
              "      <td>0</td>\n",
              "      <td>0.625000</td>\n",
              "      <td>0.825000</td>\n",
              "    </tr>\n",
              "    <tr>\n",
              "      <th>13366</th>\n",
              "      <td>Boxy. large. Boxy, unflattering, and large.\\n\\...</td>\n",
              "      <td>295</td>\n",
              "      <td>51</td>\n",
              "      <td>5.673077</td>\n",
              "      <td>22</td>\n",
              "      <td>2</td>\n",
              "      <td>0</td>\n",
              "      <td>0.329613</td>\n",
              "      <td>0.510268</td>\n",
              "    </tr>\n",
              "  </tbody>\n",
              "</table>\n",
              "</div>"
            ],
            "text/plain": [
              "                                                  Review  ...  Subjectivity\n",
              "12896  Soooo soft! This is a delightfully soft and fl...  ...      0.490909\n",
              "13183  Had my eye on this, but dind't get I finally v...  ...      0.719537\n",
              "1496   I wanted to like this... I wanted to like this...  ...      0.458761\n",
              "5205   Beautiful blouse Bought this for my daughter i...  ...      0.825000\n",
              "13366  Boxy. large. Boxy, unflattering, and large.\\n\\...  ...      0.510268\n",
              "\n",
              "[5 rows x 9 columns]"
            ]
          },
          "metadata": {},
          "execution_count": 15
        }
      ]
    },
    {
      "cell_type": "markdown",
      "metadata": {
        "id": "t2eecTcHdmPk"
      },
      "source": [
        "##Model Training and Evaluation"
      ]
    },
    {
      "cell_type": "code",
      "metadata": {
        "colab": {
          "base_uri": "https://localhost:8080/",
          "height": 271
        },
        "id": "q8hJY8nsdi_i",
        "outputId": "a6a88d69-6e75-4706-ca6b-5a64efea05f9"
      },
      "source": [
        "lr.fit(X_train.drop(['Review'], axis=1), y_train, )\n",
        "predictions = lr.predict(X_test.drop(['Review'], axis=1))\n",
        "\n",
        "print(classification_report(y_test, predictions))\n",
        "pd.DataFrame(confusion_matrix(y_test, predictions))"
      ],
      "execution_count": 16,
      "outputs": [
        {
          "output_type": "stream",
          "name": "stdout",
          "text": [
            "              precision    recall  f1-score   support\n",
            "\n",
            "           0       0.69      0.27      0.38      1271\n",
            "           1       0.82      0.97      0.89      4390\n",
            "\n",
            "    accuracy                           0.81      5661\n",
            "   macro avg       0.75      0.62      0.64      5661\n",
            "weighted avg       0.79      0.81      0.77      5661\n",
            "\n"
          ]
        },
        {
          "output_type": "execute_result",
          "data": {
            "text/html": [
              "<div>\n",
              "<style scoped>\n",
              "    .dataframe tbody tr th:only-of-type {\n",
              "        vertical-align: middle;\n",
              "    }\n",
              "\n",
              "    .dataframe tbody tr th {\n",
              "        vertical-align: top;\n",
              "    }\n",
              "\n",
              "    .dataframe thead th {\n",
              "        text-align: right;\n",
              "    }\n",
              "</style>\n",
              "<table border=\"1\" class=\"dataframe\">\n",
              "  <thead>\n",
              "    <tr style=\"text-align: right;\">\n",
              "      <th></th>\n",
              "      <th>0</th>\n",
              "      <th>1</th>\n",
              "    </tr>\n",
              "  </thead>\n",
              "  <tbody>\n",
              "    <tr>\n",
              "      <th>0</th>\n",
              "      <td>339</td>\n",
              "      <td>932</td>\n",
              "    </tr>\n",
              "    <tr>\n",
              "      <th>1</th>\n",
              "      <td>153</td>\n",
              "      <td>4237</td>\n",
              "    </tr>\n",
              "  </tbody>\n",
              "</table>\n",
              "</div>"
            ],
            "text/plain": [
              "     0     1\n",
              "0  339   932\n",
              "1  153  4237"
            ]
          },
          "metadata": {},
          "execution_count": 16
        }
      ]
    },
    {
      "cell_type": "markdown",
      "metadata": {
        "id": "ZjyQaoGwdv8P"
      },
      "source": [
        "Interesting! Looks like we are now able to predict 27% of the total number of bad or negative rated products now! Precision is quite good at 69%\n",
        "\n",
        "F1-Score for bad reviews is now 40% and good reviews is 89%\n",
        "\n",
        "This brings our overall F1-Score to 77% which is quite good.\n",
        "\n",
        "Can we still improve on our model since the recall of bad reviews is still pretty low?\n",
        "\n",
        "##Text Pre-processing and Wrangling\n",
        "We want to extract some specific features based on standard NLP feature engineering models like the classic Bag of Words model. For this we need to clean and pre-process our text data. We will build a simple text pre-processor here since the main intent is to look at feature engineering strategies.\n",
        "\n",
        "We will focus on:\n",
        "\n",
        "- Text Lowercasing\n",
        "- Removal of contractions\n",
        "- Removing unnecessary characters, numbers and symbols\n",
        "- Stemming\n",
        "- Stopword removal\n",
        "\n",
        "Source: https://towardsdatascience.com/a-practitioners-guide-to-natural-language-processing-part-i-processing-understanding-text-9f4abfd13e72"
      ]
    },
    {
      "cell_type": "code",
      "metadata": {
        "colab": {
          "base_uri": "https://localhost:8080/"
        },
        "id": "q-uGWxxWdrsk",
        "outputId": "29279faf-f2c8-42c1-883c-bcc98f91198e"
      },
      "source": [
        "!pip install contractions\n",
        "!pip install textsearch\n",
        "!pip install tqdm\n",
        "import nltk\n",
        "nltk.download('punkt')\n",
        "nltk.download('stopwords')"
      ],
      "execution_count": 17,
      "outputs": [
        {
          "output_type": "stream",
          "name": "stdout",
          "text": [
            "Collecting contractions\n",
            "  Downloading contractions-0.0.55-py2.py3-none-any.whl (7.9 kB)\n",
            "Collecting textsearch>=0.0.21\n",
            "  Downloading textsearch-0.0.21-py2.py3-none-any.whl (7.5 kB)\n",
            "Collecting pyahocorasick\n",
            "  Downloading pyahocorasick-1.4.2.tar.gz (321 kB)\n",
            "\u001b[K     |████████████████████████████████| 321 kB 3.1 MB/s \n",
            "\u001b[?25hCollecting anyascii\n",
            "  Downloading anyascii-0.3.0-py3-none-any.whl (284 kB)\n",
            "\u001b[K     |████████████████████████████████| 284 kB 36.0 MB/s \n",
            "\u001b[?25hBuilding wheels for collected packages: pyahocorasick\n",
            "  Building wheel for pyahocorasick (setup.py) ... \u001b[?25l\u001b[?25hdone\n",
            "  Created wheel for pyahocorasick: filename=pyahocorasick-1.4.2-cp37-cp37m-linux_x86_64.whl size=85447 sha256=b70be157dee1bc321a34926f410eb8d3a1a0d500aa507ba51d1a1bc7f4687cb5\n",
            "  Stored in directory: /root/.cache/pip/wheels/25/19/a6/8f363d9939162782bb8439d886469756271abc01f76fbd790f\n",
            "Successfully built pyahocorasick\n",
            "Installing collected packages: pyahocorasick, anyascii, textsearch, contractions\n",
            "Successfully installed anyascii-0.3.0 contractions-0.0.55 pyahocorasick-1.4.2 textsearch-0.0.21\n",
            "Requirement already satisfied: textsearch in /usr/local/lib/python3.7/dist-packages (0.0.21)\n",
            "Requirement already satisfied: pyahocorasick in /usr/local/lib/python3.7/dist-packages (from textsearch) (1.4.2)\n",
            "Requirement already satisfied: anyascii in /usr/local/lib/python3.7/dist-packages (from textsearch) (0.3.0)\n",
            "Requirement already satisfied: tqdm in /usr/local/lib/python3.7/dist-packages (4.62.3)\n",
            "[nltk_data] Downloading package punkt to /root/nltk_data...\n",
            "[nltk_data]   Unzipping tokenizers/punkt.zip.\n",
            "[nltk_data] Downloading package stopwords to /root/nltk_data...\n",
            "[nltk_data]   Unzipping corpora/stopwords.zip.\n"
          ]
        },
        {
          "output_type": "execute_result",
          "data": {
            "text/plain": [
              "True"
            ]
          },
          "metadata": {},
          "execution_count": 17
        }
      ]
    },
    {
      "cell_type": "code",
      "metadata": {
        "colab": {
          "base_uri": "https://localhost:8080/",
          "height": 35
        },
        "id": "srDguiXMd3zm",
        "outputId": "d10b7416-d953-43f8-c43f-f380157613e8"
      },
      "source": [
        "import contractions\n",
        "\n",
        "contractions.fix('I didn\\'t like this t-shirt')"
      ],
      "execution_count": 18,
      "outputs": [
        {
          "output_type": "execute_result",
          "data": {
            "application/vnd.google.colaboratory.intrinsic+json": {
              "type": "string"
            },
            "text/plain": [
              "'I did not like this t-shirt'"
            ]
          },
          "metadata": {},
          "execution_count": 18
        }
      ]
    },
    {
      "cell_type": "code",
      "metadata": {
        "id": "p9L0Xjzmd695"
      },
      "source": [
        "import nltk\n",
        "import contractions\n",
        "import re\n",
        "\n",
        "# remove some stopwords to capture negation in n-grams if possible\n",
        "stop_words = nltk.corpus.stopwords.words('english')\n",
        "stop_words.remove('no')\n",
        "stop_words.remove('not')\n",
        "stop_words.remove('but')\n",
        "\n",
        "# load up a simple porter stemmer - nothing fancy\n",
        "ps = nltk.porter.PorterStemmer()\n",
        "\n",
        "def simple_text_preprocessor(document): \n",
        "    # lower case\n",
        "    document = str(document).lower()\n",
        "    \n",
        "    # expand contractions\n",
        "    document = contractions.fix(document)\n",
        "    \n",
        "    # remove unnecessary characters\n",
        "    document = re.sub(r'[^a-zA-Z]',r' ', document)\n",
        "    document = re.sub(r'nbsp', r'', document)\n",
        "    document = re.sub(' +', ' ', document)\n",
        "    \n",
        "    # simple porter stemming\n",
        "    document = ' '.join([ps.stem(word) for word in document.split()])\n",
        "    \n",
        "    # stopwords removal\n",
        "    document = ' '.join([word for word in document.split() if word not in stop_words])\n",
        "    \n",
        "    return document\n",
        "\n",
        "stp = np.vectorize(simple_text_preprocessor)"
      ],
      "execution_count": 19,
      "outputs": []
    },
    {
      "cell_type": "code",
      "metadata": {
        "colab": {
          "base_uri": "https://localhost:8080/",
          "height": 341
        },
        "id": "56a5DM7qd-__",
        "outputId": "a798e661-a05a-4425-d90b-830370896e95"
      },
      "source": [
        "X_train['Clean Review'] = stp(X_train['Review'].values)\n",
        "X_test['Clean Review'] = stp(X_test['Review'].values)\n",
        "\n",
        "X_train.head()"
      ],
      "execution_count": 20,
      "outputs": [
        {
          "output_type": "execute_result",
          "data": {
            "text/html": [
              "<div>\n",
              "<style scoped>\n",
              "    .dataframe tbody tr th:only-of-type {\n",
              "        vertical-align: middle;\n",
              "    }\n",
              "\n",
              "    .dataframe tbody tr th {\n",
              "        vertical-align: top;\n",
              "    }\n",
              "\n",
              "    .dataframe thead th {\n",
              "        text-align: right;\n",
              "    }\n",
              "</style>\n",
              "<table border=\"1\" class=\"dataframe\">\n",
              "  <thead>\n",
              "    <tr style=\"text-align: right;\">\n",
              "      <th></th>\n",
              "      <th>Review</th>\n",
              "      <th>char_count</th>\n",
              "      <th>word_count</th>\n",
              "      <th>word_density</th>\n",
              "      <th>punctuation_count</th>\n",
              "      <th>title_word_count</th>\n",
              "      <th>upper_case_word_count</th>\n",
              "      <th>Polarity</th>\n",
              "      <th>Subjectivity</th>\n",
              "      <th>Clean Review</th>\n",
              "    </tr>\n",
              "  </thead>\n",
              "  <tbody>\n",
              "    <tr>\n",
              "      <th>12896</th>\n",
              "      <td>Soooo soft! This is a delightfully soft and fl...</td>\n",
              "      <td>268</td>\n",
              "      <td>52</td>\n",
              "      <td>5.056604</td>\n",
              "      <td>8</td>\n",
              "      <td>2</td>\n",
              "      <td>0</td>\n",
              "      <td>0.170455</td>\n",
              "      <td>0.490909</td>\n",
              "      <td>soooo soft thi delight soft fluffi sweater mig...</td>\n",
              "    </tr>\n",
              "    <tr>\n",
              "      <th>13183</th>\n",
              "      <td>Had my eye on this, but dind't get I finally v...</td>\n",
              "      <td>399</td>\n",
              "      <td>84</td>\n",
              "      <td>4.694118</td>\n",
              "      <td>20</td>\n",
              "      <td>2</td>\n",
              "      <td>1</td>\n",
              "      <td>0.101944</td>\n",
              "      <td>0.719537</td>\n",
              "      <td>eye thi but dind get final visit store petit t...</td>\n",
              "    </tr>\n",
              "    <tr>\n",
              "      <th>1496</th>\n",
              "      <td>I wanted to like this... I wanted to like this...</td>\n",
              "      <td>525</td>\n",
              "      <td>104</td>\n",
              "      <td>5.000000</td>\n",
              "      <td>19</td>\n",
              "      <td>2</td>\n",
              "      <td>2</td>\n",
              "      <td>0.186538</td>\n",
              "      <td>0.458761</td>\n",
              "      <td>want like thi want like thi top badli badli fa...</td>\n",
              "    </tr>\n",
              "    <tr>\n",
              "      <th>5205</th>\n",
              "      <td>Beautiful blouse Bought this for my daughter i...</td>\n",
              "      <td>203</td>\n",
              "      <td>35</td>\n",
              "      <td>5.638889</td>\n",
              "      <td>10</td>\n",
              "      <td>2</td>\n",
              "      <td>0</td>\n",
              "      <td>0.625000</td>\n",
              "      <td>0.825000</td>\n",
              "      <td>beauti blous bought thi daughter law birthday ...</td>\n",
              "    </tr>\n",
              "    <tr>\n",
              "      <th>13366</th>\n",
              "      <td>Boxy. large. Boxy, unflattering, and large.\\n\\...</td>\n",
              "      <td>295</td>\n",
              "      <td>51</td>\n",
              "      <td>5.673077</td>\n",
              "      <td>22</td>\n",
              "      <td>2</td>\n",
              "      <td>0</td>\n",
              "      <td>0.329613</td>\n",
              "      <td>0.510268</td>\n",
              "      <td>boxi larg boxi unflatt larg I curvi pound thi ...</td>\n",
              "    </tr>\n",
              "  </tbody>\n",
              "</table>\n",
              "</div>"
            ],
            "text/plain": [
              "                                                  Review  ...                                       Clean Review\n",
              "12896  Soooo soft! This is a delightfully soft and fl...  ...  soooo soft thi delight soft fluffi sweater mig...\n",
              "13183  Had my eye on this, but dind't get I finally v...  ...  eye thi but dind get final visit store petit t...\n",
              "1496   I wanted to like this... I wanted to like this...  ...  want like thi want like thi top badli badli fa...\n",
              "5205   Beautiful blouse Bought this for my daughter i...  ...  beauti blous bought thi daughter law birthday ...\n",
              "13366  Boxy. large. Boxy, unflattering, and large.\\n\\...  ...  boxi larg boxi unflatt larg I curvi pound thi ...\n",
              "\n",
              "[5 rows x 10 columns]"
            ]
          },
          "metadata": {},
          "execution_count": 20
        }
      ]
    },
    {
      "cell_type": "markdown",
      "metadata": {
        "id": "KIn8Hr_KeIDJ"
      },
      "source": [
        "## Extracting out the structured features from previous experiments\n"
      ]
    },
    {
      "cell_type": "code",
      "metadata": {
        "colab": {
          "base_uri": "https://localhost:8080/",
          "height": 204
        },
        "id": "k1w5UhsyeCEm",
        "outputId": "a7cc3730-6ce0-4c29-deb2-dd9c14a5e3f6"
      },
      "source": [
        "X_train_metadata = X_train.drop(['Review', 'Clean Review'], axis=1).reset_index(drop=True)\n",
        "X_test_metadata = X_test.drop(['Review', 'Clean Review'], axis=1).reset_index(drop=True)\n",
        "\n",
        "X_train_metadata.head()"
      ],
      "execution_count": 21,
      "outputs": [
        {
          "output_type": "execute_result",
          "data": {
            "text/html": [
              "<div>\n",
              "<style scoped>\n",
              "    .dataframe tbody tr th:only-of-type {\n",
              "        vertical-align: middle;\n",
              "    }\n",
              "\n",
              "    .dataframe tbody tr th {\n",
              "        vertical-align: top;\n",
              "    }\n",
              "\n",
              "    .dataframe thead th {\n",
              "        text-align: right;\n",
              "    }\n",
              "</style>\n",
              "<table border=\"1\" class=\"dataframe\">\n",
              "  <thead>\n",
              "    <tr style=\"text-align: right;\">\n",
              "      <th></th>\n",
              "      <th>char_count</th>\n",
              "      <th>word_count</th>\n",
              "      <th>word_density</th>\n",
              "      <th>punctuation_count</th>\n",
              "      <th>title_word_count</th>\n",
              "      <th>upper_case_word_count</th>\n",
              "      <th>Polarity</th>\n",
              "      <th>Subjectivity</th>\n",
              "    </tr>\n",
              "  </thead>\n",
              "  <tbody>\n",
              "    <tr>\n",
              "      <th>0</th>\n",
              "      <td>268</td>\n",
              "      <td>52</td>\n",
              "      <td>5.056604</td>\n",
              "      <td>8</td>\n",
              "      <td>2</td>\n",
              "      <td>0</td>\n",
              "      <td>0.170455</td>\n",
              "      <td>0.490909</td>\n",
              "    </tr>\n",
              "    <tr>\n",
              "      <th>1</th>\n",
              "      <td>399</td>\n",
              "      <td>84</td>\n",
              "      <td>4.694118</td>\n",
              "      <td>20</td>\n",
              "      <td>2</td>\n",
              "      <td>1</td>\n",
              "      <td>0.101944</td>\n",
              "      <td>0.719537</td>\n",
              "    </tr>\n",
              "    <tr>\n",
              "      <th>2</th>\n",
              "      <td>525</td>\n",
              "      <td>104</td>\n",
              "      <td>5.000000</td>\n",
              "      <td>19</td>\n",
              "      <td>2</td>\n",
              "      <td>2</td>\n",
              "      <td>0.186538</td>\n",
              "      <td>0.458761</td>\n",
              "    </tr>\n",
              "    <tr>\n",
              "      <th>3</th>\n",
              "      <td>203</td>\n",
              "      <td>35</td>\n",
              "      <td>5.638889</td>\n",
              "      <td>10</td>\n",
              "      <td>2</td>\n",
              "      <td>0</td>\n",
              "      <td>0.625000</td>\n",
              "      <td>0.825000</td>\n",
              "    </tr>\n",
              "    <tr>\n",
              "      <th>4</th>\n",
              "      <td>295</td>\n",
              "      <td>51</td>\n",
              "      <td>5.673077</td>\n",
              "      <td>22</td>\n",
              "      <td>2</td>\n",
              "      <td>0</td>\n",
              "      <td>0.329613</td>\n",
              "      <td>0.510268</td>\n",
              "    </tr>\n",
              "  </tbody>\n",
              "</table>\n",
              "</div>"
            ],
            "text/plain": [
              "   char_count  word_count  ...  Polarity  Subjectivity\n",
              "0         268          52  ...  0.170455      0.490909\n",
              "1         399          84  ...  0.101944      0.719537\n",
              "2         525         104  ...  0.186538      0.458761\n",
              "3         203          35  ...  0.625000      0.825000\n",
              "4         295          51  ...  0.329613      0.510268\n",
              "\n",
              "[5 rows x 8 columns]"
            ]
          },
          "metadata": {},
          "execution_count": 21
        }
      ]
    },
    {
      "cell_type": "code",
      "metadata": {
        "id": "otfUrpCkePhR"
      },
      "source": [
        ""
      ],
      "execution_count": null,
      "outputs": []
    }
  ]
}