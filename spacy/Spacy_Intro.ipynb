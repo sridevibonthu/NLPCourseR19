{
  "nbformat": 4,
  "nbformat_minor": 0,
  "metadata": {
    "colab": {
      "name": "Spacy Intro.ipynb",
      "provenance": [],
      "collapsed_sections": [],
      "authorship_tag": "ABX9TyPyonjSw3aFpeUEX1oWby0d"
    },
    "kernelspec": {
      "name": "python3",
      "display_name": "Python 3"
    },
    "language_info": {
      "name": "python"
    }
  },
  "cells": [
    {
      "cell_type": "code",
      "execution_count": 1,
      "metadata": {
        "id": "OYcJ3hMlLEol"
      },
      "outputs": [],
      "source": [
        "#Import spacy\n",
        "import spacy\n",
        "\n",
        "#Create a blank english nlp project\n",
        "nlp = spacy.blank('en')"
      ]
    },
    {
      "cell_type": "code",
      "source": [
        "#The doc object is created by processing a string of text with the nlp object\n",
        "doc = nlp(\"Hello World!\")\n",
        "\n",
        "#Iterate over tokens in a doc\n",
        "for token in doc:\n",
        "  print(token.text)"
      ],
      "metadata": {
        "colab": {
          "base_uri": "https://localhost:8080/"
        },
        "id": "Uu11hH-0NskZ",
        "outputId": "201b6673-4342-49f1-9245-019de95170ad"
      },
      "execution_count": 2,
      "outputs": [
        {
          "output_type": "stream",
          "name": "stdout",
          "text": [
            "Hello\n",
            "World\n",
            "!\n"
          ]
        }
      ]
    },
    {
      "cell_type": "code",
      "source": [
        "#Token object - index into the doc to get a single token\n",
        "token = doc[1]\n",
        "\n",
        "#get the token text via the .text atrribute\n",
        "print(token.text)"
      ],
      "metadata": {
        "colab": {
          "base_uri": "https://localhost:8080/"
        },
        "id": "vQXlDUU7ODyu",
        "outputId": "e637153e-a6bb-4180-bbc3-fbc5def774e0"
      },
      "execution_count": 3,
      "outputs": [
        {
          "output_type": "stream",
          "name": "stdout",
          "text": [
            "World\n"
          ]
        }
      ]
    },
    {
      "cell_type": "code",
      "source": [
        "#The span object - a slice from the doc is a span object\n",
        "span = doc[1:3]\n",
        "\n",
        "#get the span text via the .text attribute\n",
        "print(span.text)\n"
      ],
      "metadata": {
        "colab": {
          "base_uri": "https://localhost:8080/"
        },
        "id": "QQKbejJEOWvy",
        "outputId": "7bb1dfd4-721c-417e-e83b-0e48df4d7ff1"
      },
      "execution_count": 4,
      "outputs": [
        {
          "output_type": "stream",
          "name": "stdout",
          "text": [
            "World!\n"
          ]
        }
      ]
    },
    {
      "cell_type": "code",
      "source": [
        "#Lexical attributes\n",
        "\n",
        "doc = nlp(\"It costs $5.\")\n"
      ],
      "metadata": {
        "id": "4wwgwD5COs3C"
      },
      "execution_count": 5,
      "outputs": []
    },
    {
      "cell_type": "code",
      "source": [
        "print(\"Index :  \", [token.i for token in doc])\n",
        "print(\"Text :  \", [token.text for token in doc])"
      ],
      "metadata": {
        "colab": {
          "base_uri": "https://localhost:8080/"
        },
        "id": "_hFnK-mRO3Sj",
        "outputId": "f4a94299-1041-4aca-dea4-370000239bbe"
      },
      "execution_count": 7,
      "outputs": [
        {
          "output_type": "stream",
          "name": "stdout",
          "text": [
            "Index :   [0, 1, 2, 3, 4]\n",
            "Text :   ['It', 'costs', '$', '5', '.']\n"
          ]
        }
      ]
    },
    {
      "cell_type": "code",
      "source": [
        "print(\"is_alpha : \", [token.is_alpha for token in doc])\n",
        "print(\"is_punct : \", [token.is_punct for token in doc])\n",
        "print(\"like_num : \", [token.like_num for token in doc])"
      ],
      "metadata": {
        "colab": {
          "base_uri": "https://localhost:8080/"
        },
        "id": "UCP1Tiz5PRGk",
        "outputId": "c06bcead-974e-4a00-f74b-0d59c0ca6993"
      },
      "execution_count": 8,
      "outputs": [
        {
          "output_type": "stream",
          "name": "stdout",
          "text": [
            "is_alpha :  [True, True, False, False, False]\n",
            "is_punct :  [False, False, False, False, True]\n",
            "like_num :  [False, False, False, True, False]\n"
          ]
        }
      ]
    },
    {
      "cell_type": "code",
      "source": [
        ""
      ],
      "metadata": {
        "id": "DhAU4vA7P8sc"
      },
      "execution_count": null,
      "outputs": []
    }
  ]
}