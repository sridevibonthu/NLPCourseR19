{
  "nbformat": 4,
  "nbformat_minor": 0,
  "metadata": {
    "colab": {
      "name": "Regular expressions basic.ipynb",
      "provenance": [],
      "authorship_tag": "ABX9TyMSaS37hURsbK32vqliGg7k",
      "include_colab_link": true
    },
    "kernelspec": {
      "name": "python3",
      "display_name": "Python 3"
    },
    "language_info": {
      "name": "python"
    }
  },
  "cells": [
    {
      "cell_type": "markdown",
      "metadata": {
        "id": "view-in-github",
        "colab_type": "text"
      },
      "source": [
        "<a href=\"https://colab.research.google.com/github/sridevibonthu/NLPCourseR19/blob/main/note%20books/Regular_expressions_basic.ipynb\" target=\"_parent\"><img src=\"https://colab.research.google.com/assets/colab-badge.svg\" alt=\"Open In Colab\"/></a>"
      ]
    },
    {
      "cell_type": "markdown",
      "metadata": {
        "id": "xFzhOcBk7sZO"
      },
      "source": [
        "A regex is a special sequence of characters that defines a pattern for complex string-matching functionality.\n",
        "\n",
        "What we will learn?\n",
        "\n",
        "- How to access the re module, which implements regex matching in Python\n",
        "- How to use re.search() to match a pattern against a string\n",
        "- How to create complex matching pattern with regex metacharacters"
      ]
    },
    {
      "cell_type": "markdown",
      "metadata": {
        "id": "Lkm7wdRd8Lac"
      },
      "source": [
        "How to find out whether a string s contains the substring '123'?\n"
      ]
    },
    {
      "cell_type": "code",
      "metadata": {
        "id": "5euSmDfV49fK"
      },
      "source": [
        "s = 'vit123bvrm'"
      ],
      "execution_count": null,
      "outputs": []
    },
    {
      "cell_type": "markdown",
      "metadata": {
        "id": "jnMk-Nii8n94"
      },
      "source": [
        "how to determine whether a string contains any three consecutive decimal digit characters, as in the strings 'foo123bar', 'foo456bar', '234baz', and 'qux678'"
      ]
    },
    {
      "cell_type": "markdown",
      "metadata": {
        "id": "xtYpBhiG85mF"
      },
      "source": [
        "### The re module\n",
        "\n",
        "- Regex functionality in Python resides in a module named re. \n",
        "- The re module contains many useful functions and methods\n",
        "\n",
        "- re.search() is one among them.\n",
        "\n",
        "- re.search(\\<regex\\>, \\<string\\>)\n",
        "\n",
        "- Scans a string for a regex match.\n",
        "\n",
        "- re.search(\\<regex\\>, \\<string\\>) scans <string> looking for the first location where the pattern <regex> matches. If a match is found, then re.search() returns a match object. Otherwise, it returns None.\n"
      ]
    },
    {
      "cell_type": "code",
      "metadata": {
        "id": "eQpzOlJe5tOP"
      },
      "source": [
        "import re"
      ],
      "execution_count": null,
      "outputs": []
    },
    {
      "cell_type": "code",
      "metadata": {
        "colab": {
          "base_uri": "https://localhost:8080/"
        },
        "id": "aNsnq1Mf5t04",
        "outputId": "5f3c0c41-08a7-4172-cf6b-75b721ccebd3"
      },
      "source": [
        "re.search('123', s)"
      ],
      "execution_count": null,
      "outputs": [
        {
          "output_type": "execute_result",
          "data": {
            "text/plain": [
              "<re.Match object; span=(3, 6), match='123'>"
            ]
          },
          "metadata": {},
          "execution_count": 21
        }
      ]
    },
    {
      "cell_type": "code",
      "metadata": {
        "id": "HKvJtTP59rLg"
      },
      "source": [
        "re.search('456',s)"
      ],
      "execution_count": null,
      "outputs": []
    },
    {
      "cell_type": "code",
      "metadata": {
        "colab": {
          "base_uri": "https://localhost:8080/"
        },
        "id": "ZfLkm9PN9u8K",
        "outputId": "f7fd9fff-ef3b-4c09-c20c-8f715f15d395"
      },
      "source": [
        "if re.search('456', s):\n",
        "  print(\"Match is found\")\n",
        "else:\n",
        "  print(\"Match is not found\")"
      ],
      "execution_count": null,
      "outputs": [
        {
          "output_type": "stream",
          "name": "stdout",
          "text": [
            "Match is not found\n"
          ]
        }
      ]
    },
    {
      "cell_type": "markdown",
      "metadata": {
        "id": "Fc27rI6p-K4x"
      },
      "source": [
        "#### Python Regex Metacharacters\n",
        "\n",
        "- The real power of regex matching in Python emerges when \\<regex\\> contains special characters called metacharacters. These have a unique meaning to the regex matching engine and vastly enhance the capability of the search.\n",
        "\n",
        "- Consider again the problem of how to determine whether a string contains any three consecutive decimal digit characters.\n",
        "\n",
        "- In a regex, a set of characters specified in square brackets ([]) makes up a character class. This metacharacter sequence matches any single character that is in the class, as demonstrated in the following example:"
      ]
    },
    {
      "cell_type": "code",
      "metadata": {
        "colab": {
          "base_uri": "https://localhost:8080/"
        },
        "id": "NnX6otFe-HJX",
        "outputId": "760a571f-1261-4906-b42e-66674ce4b8d6"
      },
      "source": [
        "re.search('[0-9][0-9][0-9]', s)"
      ],
      "execution_count": null,
      "outputs": [
        {
          "output_type": "execute_result",
          "data": {
            "text/plain": [
              "<re.Match object; span=(3, 6), match='123'>"
            ]
          },
          "metadata": {},
          "execution_count": 25
        }
      ]
    },
    {
      "cell_type": "code",
      "metadata": {
        "colab": {
          "base_uri": "https://localhost:8080/"
        },
        "id": "MH3TRrtT-ysK",
        "outputId": "9ab95ad6-3351-4981-c051-938b9fb65489"
      },
      "source": [
        "re.search('[0-9][0-9][0-9]', 'foo456bar')"
      ],
      "execution_count": null,
      "outputs": [
        {
          "output_type": "execute_result",
          "data": {
            "text/plain": [
              "<re.Match object; span=(3, 6), match='456'>"
            ]
          },
          "metadata": {},
          "execution_count": 26
        }
      ]
    },
    {
      "cell_type": "code",
      "metadata": {
        "colab": {
          "base_uri": "https://localhost:8080/"
        },
        "id": "hCh2boOX_MzT",
        "outputId": "e94f67a9-e5ac-44bd-e156-d54fffd90365"
      },
      "source": [
        "print(re.search('[0-9][0-9][0-9]', '12foo34'))"
      ],
      "execution_count": null,
      "outputs": [
        {
          "output_type": "stream",
          "name": "stdout",
          "text": [
            "None\n"
          ]
        }
      ]
    },
    {
      "cell_type": "markdown",
      "metadata": {
        "id": "-4zKYVbq_Yho"
      },
      "source": [
        "The dot (.) metacharacter matches any character except a newline, so it functions like a wildcard"
      ]
    },
    {
      "cell_type": "code",
      "metadata": {
        "colab": {
          "base_uri": "https://localhost:8080/"
        },
        "id": "4mtyojVo_PA8",
        "outputId": "cc04e338-9e1e-4e09-f742-5a602ba497a1"
      },
      "source": [
        "re.search('1.3', 'vit123bvrm')"
      ],
      "execution_count": null,
      "outputs": [
        {
          "output_type": "execute_result",
          "data": {
            "text/plain": [
              "<re.Match object; span=(3, 6), match='123'>"
            ]
          },
          "metadata": {},
          "execution_count": 29
        }
      ]
    },
    {
      "cell_type": "code",
      "metadata": {
        "colab": {
          "base_uri": "https://localhost:8080/"
        },
        "id": "03KcaVFd_bxZ",
        "outputId": "6ff5d161-5676-4f8f-fed7-7cb4272e737f"
      },
      "source": [
        "print(re.search('1.3', 'vit13bvrm'))"
      ],
      "execution_count": null,
      "outputs": [
        {
          "output_type": "stream",
          "name": "stdout",
          "text": [
            "None\n"
          ]
        }
      ]
    },
    {
      "cell_type": "markdown",
      "metadata": {
        "id": "ouvxpnIsApE8"
      },
      "source": [
        "### Some of the meta characters supported by re module of python\n",
        "- . - matches any single character except newline\n",
        "- ^ - Anchors a match at the start of a string\n",
        "- $ - Anchors a match at the end of the string\n",
        "- \\* - Matches zero or more repetitions\n",
        "- \\+ - Mathces one or more repetitions\n",
        "- \\? - Matches zero or one repetition\n",
        "- { } - matches an explicitly specified number of repetitions\n",
        "- \\ - Escapes a metacharacter of its special meaning\n",
        "- [] - specifies a character class\n",
        "- | - designates an alteration\n",
        "- () - creates a group"
      ]
    },
    {
      "cell_type": "code",
      "metadata": {
        "colab": {
          "base_uri": "https://localhost:8080/"
        },
        "id": "E0Z_gv_Q_nom",
        "outputId": "52b06c43-692a-4601-eccb-bbc2e24fc915"
      },
      "source": [
        "# matching a single character\n",
        "re.search('ba[artz]', 'foobarqux')"
      ],
      "execution_count": null,
      "outputs": [
        {
          "output_type": "execute_result",
          "data": {
            "text/plain": [
              "<re.Match object; span=(3, 6), match='bar'>"
            ]
          },
          "metadata": {},
          "execution_count": 32
        }
      ]
    },
    {
      "cell_type": "code",
      "metadata": {
        "colab": {
          "base_uri": "https://localhost:8080/"
        },
        "id": "0sxGxaHbBQpN",
        "outputId": "19de77cd-d30b-4a90-9548-5d19f43f8322"
      },
      "source": [
        "# Matching range of characters\n",
        "re.search('[a-z]', 'FOObar')"
      ],
      "execution_count": null,
      "outputs": [
        {
          "output_type": "execute_result",
          "data": {
            "text/plain": [
              "<re.Match object; span=(3, 4), match='b'>"
            ]
          },
          "metadata": {},
          "execution_count": 33
        }
      ]
    },
    {
      "cell_type": "code",
      "metadata": {
        "colab": {
          "base_uri": "https://localhost:8080/"
        },
        "id": "ty6hQpsFBbL4",
        "outputId": "26c49a87-4a6b-4618-a3b3-7fa2376e9f42"
      },
      "source": [
        "re.search('[A-Z]', 'FOObar')"
      ],
      "execution_count": null,
      "outputs": [
        {
          "output_type": "execute_result",
          "data": {
            "text/plain": [
              "<re.Match object; span=(0, 1), match='F'>"
            ]
          },
          "metadata": {},
          "execution_count": 34
        }
      ]
    },
    {
      "cell_type": "code",
      "metadata": {
        "colab": {
          "base_uri": "https://localhost:8080/"
        },
        "id": "jkgofDKoBd2f",
        "outputId": "8b1578d4-3436-4ee8-cc64-67305c39f026"
      },
      "source": [
        "re.search('[0-9][0-9]', 'foo123bar')"
      ],
      "execution_count": null,
      "outputs": [
        {
          "output_type": "execute_result",
          "data": {
            "text/plain": [
              "<re.Match object; span=(3, 5), match='12'>"
            ]
          },
          "metadata": {},
          "execution_count": 35
        }
      ]
    },
    {
      "cell_type": "code",
      "metadata": {
        "colab": {
          "base_uri": "https://localhost:8080/"
        },
        "id": "QcXnX-tHBhKH",
        "outputId": "27bfe746-5118-44c3-9977-af298550deb4"
      },
      "source": [
        "# Matching any character that is not a digit\n",
        "re.search('[^0-9]', '12345foo')"
      ],
      "execution_count": null,
      "outputs": [
        {
          "output_type": "execute_result",
          "data": {
            "text/plain": [
              "<re.Match object; span=(5, 6), match='f'>"
            ]
          },
          "metadata": {},
          "execution_count": 38
        }
      ]
    },
    {
      "cell_type": "code",
      "metadata": {
        "colab": {
          "base_uri": "https://localhost:8080/"
        },
        "id": "uXh4ZY6JBq4-",
        "outputId": "c61cc9a0-d3a3-42bd-ccfe-50a5b1b154b6"
      },
      "source": [
        "# The . metacharacter matches any single character except a newline:\n",
        "\n",
        "re.search('foo.bar', 'fooxbar')"
      ],
      "execution_count": null,
      "outputs": [
        {
          "output_type": "execute_result",
          "data": {
            "text/plain": [
              "<re.Match object; span=(0, 7), match='fooxbar'>"
            ]
          },
          "metadata": {},
          "execution_count": 39
        }
      ]
    },
    {
      "cell_type": "code",
      "metadata": {
        "colab": {
          "base_uri": "https://localhost:8080/"
        },
        "id": "gCA9w2NkCtAr",
        "outputId": "21a467c9-d64a-4082-9490-8831e0522d77"
      },
      "source": [
        "print(re.search('foo.bar', 'foobar'))"
      ],
      "execution_count": null,
      "outputs": [
        {
          "output_type": "stream",
          "name": "stdout",
          "text": [
            "None\n"
          ]
        }
      ]
    },
    {
      "cell_type": "code",
      "metadata": {
        "colab": {
          "base_uri": "https://localhost:8080/"
        },
        "id": "PsSAeWO8Cv1b",
        "outputId": "2ff96026-51f9-423d-c438-199f385da5d3"
      },
      "source": [
        "print(re.search('foo.bar', 'foo\\nbar'))"
      ],
      "execution_count": null,
      "outputs": [
        {
          "output_type": "stream",
          "name": "stdout",
          "text": [
            "None\n"
          ]
        }
      ]
    },
    {
      "cell_type": "markdown",
      "metadata": {
        "id": "qY7JiuygDAXb"
      },
      "source": [
        "\\w\n",
        "\\W\n",
        "\n",
        "Match based on whether a character is a word character"
      ]
    },
    {
      "cell_type": "code",
      "metadata": {
        "colab": {
          "base_uri": "https://localhost:8080/"
        },
        "id": "vtzWP0z-Cyqt",
        "outputId": "9377c1c6-f56b-46cb-9aff-a51eac39bc92"
      },
      "source": [
        "re.search('\\w', '#(.a$@&')"
      ],
      "execution_count": null,
      "outputs": [
        {
          "output_type": "execute_result",
          "data": {
            "text/plain": [
              "<re.Match object; span=(3, 4), match='a'>"
            ]
          },
          "metadata": {},
          "execution_count": 42
        }
      ]
    },
    {
      "cell_type": "code",
      "metadata": {
        "colab": {
          "base_uri": "https://localhost:8080/"
        },
        "id": "ipJmB3Y-DG_i",
        "outputId": "215f3255-d32e-458a-ed0e-c3801054457d"
      },
      "source": [
        "re.search('[a-zA-Z0-9_]', '#(.a$@&')"
      ],
      "execution_count": null,
      "outputs": [
        {
          "output_type": "execute_result",
          "data": {
            "text/plain": [
              "<re.Match object; span=(3, 4), match='a'>"
            ]
          },
          "metadata": {},
          "execution_count": 43
        }
      ]
    },
    {
      "cell_type": "code",
      "metadata": {
        "colab": {
          "base_uri": "https://localhost:8080/"
        },
        "id": "uAp9ePqMDJZC",
        "outputId": "bb0c78b8-d332-47f9-da44-8ba24ff0624e"
      },
      "source": [
        "re.search('\\W', 'a_1*3Qb')"
      ],
      "execution_count": null,
      "outputs": [
        {
          "output_type": "execute_result",
          "data": {
            "text/plain": [
              "<re.Match object; span=(3, 4), match='*'>"
            ]
          },
          "metadata": {},
          "execution_count": 44
        }
      ]
    },
    {
      "cell_type": "markdown",
      "metadata": {
        "id": "T-ClzWH9DSm_"
      },
      "source": [
        "\\d\n",
        "\\D\n",
        "\n",
        "Match based on whether a character is a decimal digit."
      ]
    },
    {
      "cell_type": "code",
      "metadata": {
        "colab": {
          "base_uri": "https://localhost:8080/"
        },
        "id": "cyDKKlv1DM5b",
        "outputId": "686d3c44-d145-4640-d630-b7484923ea54"
      },
      "source": [
        "re.search('\\d', 'abc4def')"
      ],
      "execution_count": null,
      "outputs": [
        {
          "output_type": "execute_result",
          "data": {
            "text/plain": [
              "<re.Match object; span=(3, 4), match='4'>"
            ]
          },
          "metadata": {},
          "execution_count": 45
        }
      ]
    },
    {
      "cell_type": "code",
      "metadata": {
        "colab": {
          "base_uri": "https://localhost:8080/"
        },
        "id": "gDky8LKJDU8X",
        "outputId": "3df0695e-6866-4310-c383-fdd3cae79b50"
      },
      "source": [
        "re.search('\\D', '234Q678')"
      ],
      "execution_count": null,
      "outputs": [
        {
          "output_type": "execute_result",
          "data": {
            "text/plain": [
              "<re.Match object; span=(3, 4), match='Q'>"
            ]
          },
          "metadata": {},
          "execution_count": 46
        }
      ]
    },
    {
      "cell_type": "markdown",
      "metadata": {
        "id": "uA4QodjFEVeC"
      },
      "source": [
        "^\n",
        "\\A\n",
        "\n",
        "Anchor a match to the start of <string>."
      ]
    },
    {
      "cell_type": "code",
      "metadata": {
        "colab": {
          "base_uri": "https://localhost:8080/"
        },
        "id": "ORZdQjJ9DWxS",
        "outputId": "eee231a1-cb6a-4448-b5f1-1393e2476f70"
      },
      "source": [
        "re.search('^foo', 'foobar')"
      ],
      "execution_count": null,
      "outputs": [
        {
          "output_type": "execute_result",
          "data": {
            "text/plain": [
              "<re.Match object; span=(0, 3), match='foo'>"
            ]
          },
          "metadata": {},
          "execution_count": 47
        }
      ]
    },
    {
      "cell_type": "code",
      "metadata": {
        "colab": {
          "base_uri": "https://localhost:8080/"
        },
        "id": "FqAwqE9EERoz",
        "outputId": "35fef8cf-1be7-490d-c260-d37b55fff3a5"
      },
      "source": [
        "print(re.search('^foo', 'barfoo'))"
      ],
      "execution_count": null,
      "outputs": [
        {
          "output_type": "stream",
          "name": "stdout",
          "text": [
            "None\n"
          ]
        }
      ]
    },
    {
      "cell_type": "markdown",
      "metadata": {
        "id": "X20PD4QiEw0O"
      },
      "source": [
        "$\n",
        "\\Z\n",
        "\n",
        "Anchor a match to the end of <string>."
      ]
    },
    {
      "cell_type": "code",
      "metadata": {
        "colab": {
          "base_uri": "https://localhost:8080/"
        },
        "id": "iya7WjIbEThH",
        "outputId": "5161ec7e-3ee0-4b1e-aea6-52ca010fb77d"
      },
      "source": [
        "re.search('bar$', 'foobar')"
      ],
      "execution_count": null,
      "outputs": [
        {
          "output_type": "execute_result",
          "data": {
            "text/plain": [
              "<re.Match object; span=(3, 6), match='bar'>"
            ]
          },
          "metadata": {},
          "execution_count": 49
        }
      ]
    },
    {
      "cell_type": "code",
      "metadata": {
        "colab": {
          "base_uri": "https://localhost:8080/"
        },
        "id": "XDyRIVeQE2-i",
        "outputId": "eaecd4fc-7212-4d63-9c05-397955da7e3d"
      },
      "source": [
        "print(re.search('bar$', 'barfoo'))"
      ],
      "execution_count": null,
      "outputs": [
        {
          "output_type": "stream",
          "name": "stdout",
          "text": [
            "None\n"
          ]
        }
      ]
    },
    {
      "cell_type": "markdown",
      "metadata": {
        "id": "mWmIbLr6GJ-P"
      },
      "source": [
        "#### Quantifiers\n",
        "A quantifier metacharacter immediately follows a portion of a <regex> and indicates how many times that portion must occur for the match to succeed."
      ]
    },
    {
      "cell_type": "markdown",
      "metadata": {
        "id": "gYueo6dUGYk3"
      },
      "source": [
        "*\n",
        "\n",
        "Matches zero or more repetitions of the preceding regex."
      ]
    },
    {
      "cell_type": "code",
      "metadata": {
        "colab": {
          "base_uri": "https://localhost:8080/"
        },
        "id": "yLsKpRJdE5O5",
        "outputId": "e569714a-3a51-44ee-d44f-331e754953c7"
      },
      "source": [
        "print(re.search('foo-*bar', 'foobar'))\n",
        "print(re.search('foo-*bar', 'foo-bar'))\n",
        "print(re.search('foo-*bar', 'foo--bar'))"
      ],
      "execution_count": null,
      "outputs": [
        {
          "output_type": "stream",
          "name": "stdout",
          "text": [
            "<re.Match object; span=(0, 6), match='foobar'>\n",
            "<re.Match object; span=(0, 7), match='foo-bar'>\n",
            "<re.Match object; span=(0, 8), match='foo--bar'>\n"
          ]
        }
      ]
    },
    {
      "cell_type": "markdown",
      "metadata": {
        "id": "K-PoLmwtGcwd"
      },
      "source": [
        "+\n",
        "\n",
        "Matches one or more repetitions of the preceding regex."
      ]
    },
    {
      "cell_type": "code",
      "metadata": {
        "colab": {
          "base_uri": "https://localhost:8080/"
        },
        "id": "wkyt0QFWGWvO",
        "outputId": "ec7006d0-4723-4955-c92f-60412c8b36f6"
      },
      "source": [
        "print(re.search('foo-+bar', 'foobar'))\n",
        "print(re.search('foo-+bar', 'foo-bar'))\n",
        "print(re.search('foo-+bar', 'foo--bar'))\n"
      ],
      "execution_count": null,
      "outputs": [
        {
          "output_type": "stream",
          "name": "stdout",
          "text": [
            "None\n",
            "<re.Match object; span=(0, 7), match='foo-bar'>\n",
            "<re.Match object; span=(0, 8), match='foo--bar'>\n"
          ]
        }
      ]
    },
    {
      "cell_type": "markdown",
      "metadata": {
        "id": "PCG1Tpe7Gx16"
      },
      "source": [
        "?\n",
        "\n",
        "Matches zero or one repetitions of the preceding regex."
      ]
    },
    {
      "cell_type": "code",
      "metadata": {
        "colab": {
          "base_uri": "https://localhost:8080/"
        },
        "id": "AksNM209Gtl9",
        "outputId": "991ac768-3bd1-4826-c093-7be583608b6f"
      },
      "source": [
        "print(re.search('foo-?bar', 'foobar'))\n",
        "print(re.search('foo-?bar', 'foo-bar'))\n",
        "print(re.search('foo-?bar', 'foo--bar'))            "
      ],
      "execution_count": null,
      "outputs": [
        {
          "output_type": "stream",
          "name": "stdout",
          "text": [
            "<re.Match object; span=(0, 6), match='foobar'>\n",
            "<re.Match object; span=(0, 7), match='foo-bar'>\n",
            "None\n"
          ]
        }
      ]
    },
    {
      "cell_type": "markdown",
      "metadata": {
        "id": "nBD_Bs0dHKBh"
      },
      "source": [
        "{m}\n",
        "\n",
        "Matches exactly m repetitions of the preceding regex."
      ]
    },
    {
      "cell_type": "code",
      "metadata": {
        "colab": {
          "base_uri": "https://localhost:8080/"
        },
        "id": "Br8amGV1G9qv",
        "outputId": "f6e19411-6fbd-498c-e573-aa540a562063"
      },
      "source": [
        "print(re.search('x-{3}x', 'x--x'))"
      ],
      "execution_count": null,
      "outputs": [
        {
          "output_type": "stream",
          "name": "stdout",
          "text": [
            "None\n"
          ]
        }
      ]
    },
    {
      "cell_type": "code",
      "metadata": {
        "id": "eawySqE_HNpa"
      },
      "source": [
        ""
      ],
      "execution_count": null,
      "outputs": []
    }
  ]
}