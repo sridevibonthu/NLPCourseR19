{
  "nbformat": 4,
  "nbformat_minor": 0,
  "metadata": {
    "colab": {
      "name": "bowtfidf.ipynb",
      "provenance": [],
      "authorship_tag": "ABX9TyN7+XLqY+yBGY20VyJho7e0",
      "include_colab_link": true
    },
    "kernelspec": {
      "name": "python3",
      "display_name": "Python 3"
    },
    "language_info": {
      "name": "python"
    }
  },
  "cells": [
    {
      "cell_type": "markdown",
      "metadata": {
        "id": "view-in-github",
        "colab_type": "text"
      },
      "source": [
        "<a href=\"https://colab.research.google.com/github/sridevibonthu/NLPCourseR19/blob/main/bowtfidf.ipynb\" target=\"_parent\"><img src=\"https://colab.research.google.com/assets/colab-badge.svg\" alt=\"Open In Colab\"/></a>"
      ]
    },
    {
      "cell_type": "markdown",
      "source": [
        "## Finding Similarity between two sentences\n",
        "In this notebook, cosine similarity between two sentences is computed using two methods with following steps:\n",
        "\n",
        "### Method 1\n",
        "- Convert words into vector of numbers using bag of words (It returns count of the word in sentence based on all vocabulary words.\n",
        "- After converting words to vector form, we can directly compute cosine - similarity b/w two vectors\n",
        "- Then compute dot product.\n",
        "\n",
        "**Note**: Bag of words does not account for semantic similarity, for example: two sentences: \"Marry is quicker than John\" and \"John is quicker than Marry\" are same when we use bag of words rather than word embeddings\n",
        "\n",
        "### Method 2\n",
        "- Convert words into vector of numbers using bag of words (It returns count of the word in sentence based on all vocabulary words.\n",
        "- Apply TF-IDF to the result of bag of words for assign weight to each term.\n",
        "- Then compute cosine similarity and dot product."
      ],
      "metadata": {
        "id": "ALrw23W3tJyL"
      }
    },
    {
      "cell_type": "code",
      "execution_count": 1,
      "metadata": {
        "id": "GarOGMMXrVtc"
      },
      "outputs": [],
      "source": [
        "import sklearn\n",
        "import numpy as np\n",
        "from sklearn.feature_extraction.text import CountVectorizer, TfidfVectorizer\n",
        "from sklearn.metrics.pairwise import cosine_similarity"
      ]
    },
    {
      "cell_type": "code",
      "source": [
        "class TextSimilarity():\n",
        "    \n",
        "    def __init__(self):\n",
        "        pass\n",
        "    \n",
        "    # convert words into numbers\n",
        "    def applyBagofWords(self, data):\n",
        "        \n",
        "        vectorizer = CountVectorizer()\n",
        "        return vectorizer.fit_transform(data).toarray()\n",
        "    \n",
        "    def applyTfIDF(self, data):\n",
        "        \n",
        "        vectorizer = TfidfVectorizer()\n",
        "        tf = vectorizer.fit_transform(data).toarray()\n",
        "        return tf \n",
        "    \n",
        "    def computeCosineSimilarity(self, vectors):\n",
        "        \n",
        "        return cosine_similarity(vectors)\n",
        "        \n",
        "    def computeDotProduct(self, v1, v2):\n",
        "        \n",
        "        return np.dot(v1, v2)\n",
        "    \n"
      ],
      "metadata": {
        "id": "4twEsCl0rXGh"
      },
      "execution_count": 6,
      "outputs": []
    },
    {
      "cell_type": "code",
      "source": [
        "textSim = TextSimilarity()\n",
        "data_corpus = [\"Marry and John are very good friends\", \"Jack and Martin are enemies\"]\n",
        "print (\"=== Bag of words vector=== \\n\")\n",
        "BoW_vectors = textSim.applyBagofWords(data_corpus)\n",
        "print(BoW_vectors)\n",
        "print(\"\\n === Cosine Similarity ===\")\n",
        "cosine_sim = textSim.computeCosineSimilarity(BoW_vectors)\n",
        "print(cosine_sim)\n",
        "print(\"\\n === Dot Product === \")\n",
        "print(textSim.computeDotProduct(cosine_sim[0], cosine_sim[1]))"
      ],
      "metadata": {
        "colab": {
          "base_uri": "https://localhost:8080/"
        },
        "id": "IxXkvX68rd8G",
        "outputId": "1aa65e75-5fb0-47d4-985b-f235a0d64136"
      },
      "execution_count": 7,
      "outputs": [
        {
          "output_type": "stream",
          "name": "stdout",
          "text": [
            "=== Bag of words vector=== \n",
            "\n",
            "[[1 1 0 1 1 0 1 1 0 1]\n",
            " [1 1 1 0 0 1 0 0 1 0]]\n",
            "\n",
            " === Cosine Similarity ===\n",
            "[[1.        0.3380617]\n",
            " [0.3380617 1.       ]]\n",
            "\n",
            " === Dot Product === \n",
            "0.6761234037828131\n"
          ]
        }
      ]
    },
    {
      "cell_type": "code",
      "source": [
        "\n",
        "tf_idf_vectors = textSim.applyTfIDF(data_corpus)\n",
        "print (\" \\n ==== TF IDF ====== \\n\")\n",
        "print (tf_idf_vectors)\n",
        "print ( \" \\n ==== cosine similarity ==== \\n \")\n",
        "cosine_sim = textSim.computeCosineSimilarity(tf_idf_vectors)\n",
        "print (cosine_sim)\n",
        "print (\" \\n ==== dot product === \\n \")\n",
        "print (textSim.computeDotProduct(cosine_sim[0], cosine_sim[1]))"
      ],
      "metadata": {
        "colab": {
          "base_uri": "https://localhost:8080/"
        },
        "id": "WHfVnjgDs9CA",
        "outputId": "5c2a332b-ab93-4576-be86-147d9a84017c"
      },
      "execution_count": 8,
      "outputs": [
        {
          "output_type": "stream",
          "name": "stdout",
          "text": [
            " \n",
            " ==== TF IDF ====== \n",
            "\n",
            "[[0.29017021 0.29017021 0.         0.4078241  0.4078241  0.\n",
            "  0.4078241  0.4078241  0.         0.4078241 ]\n",
            " [0.35520009 0.35520009 0.49922133 0.         0.         0.49922133\n",
            "  0.         0.         0.49922133 0.        ]]\n",
            " \n",
            " ==== cosine similarity ==== \n",
            " \n",
            "[[1.         0.20613697]\n",
            " [0.20613697 1.        ]]\n",
            " \n",
            " ==== dot product === \n",
            " \n",
            "0.41227393213657215\n"
          ]
        }
      ]
    },
    {
      "cell_type": "code",
      "source": [
        ""
      ],
      "metadata": {
        "id": "pruUm4rCs9hI"
      },
      "execution_count": null,
      "outputs": []
    }
  ]
}