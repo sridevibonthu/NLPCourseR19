{
  "nbformat": 4,
  "nbformat_minor": 0,
  "metadata": {
    "colab": {
      "name": "Pos Tagging.ipynb",
      "provenance": [],
      "collapsed_sections": [],
      "authorship_tag": "ABX9TyNl1bwgYYdzLSBzIhQ6o3fl",
      "include_colab_link": true
    },
    "kernelspec": {
      "name": "python3",
      "display_name": "Python 3"
    },
    "language_info": {
      "name": "python"
    }
  },
  "cells": [
    {
      "cell_type": "markdown",
      "metadata": {
        "id": "view-in-github",
        "colab_type": "text"
      },
      "source": [
        "<a href=\"https://colab.research.google.com/github/sridevibonthu/NLPCourseR19/blob/main/Pos_Tagging.ipynb\" target=\"_parent\"><img src=\"https://colab.research.google.com/assets/colab-badge.svg\" alt=\"Open In Colab\"/></a>"
      ]
    },
    {
      "cell_type": "markdown",
      "source": [
        ""
      ],
      "metadata": {
        "id": "K3pSnCfApFG1"
      }
    },
    {
      "cell_type": "code",
      "source": [
        "import spacy\n",
        "  \n",
        "# python -m spacy download en_core_web_sm\n",
        "nlp = spacy.load(\"en_core_web_sm\")"
      ],
      "metadata": {
        "id": "5SHXRgiipJiC"
      },
      "execution_count": 23,
      "outputs": []
    },
    {
      "cell_type": "code",
      "execution_count": 24,
      "metadata": {
        "colab": {
          "base_uri": "https://localhost:8080/"
        },
        "id": "vj7mqkwcmbsL",
        "outputId": "97af7b74-6791-427b-c8df-492cdc0fc13c"
      },
      "outputs": [
        {
          "output_type": "stream",
          "name": "stdout",
          "text": [
            "My DET\n",
            "name NOUN\n",
            "is AUX\n",
            "Sridevi PROPN\n",
            ". PUNCT\n",
            "\n",
            " SPACE\n",
            "I PRON\n",
            "enjoy VERB\n",
            "teaching VERB\n",
            "and CCONJ\n",
            "learning VERB\n",
            "NLP PROPN\n",
            ". PUNCT\n",
            "Verbs: ['enjoy', 'teaching', 'learning']\n"
          ]
        }
      ],
      "source": [
        "import spacy\n",
        "  \n",
        "# Load English tokenizer, tagger, \n",
        "# parser, NER and word vectors\n",
        "nlp = spacy.load(\"en_core_web_sm\")\n",
        "  \n",
        "# Process whole documents\n",
        "text = (\"\"\"My name is Sridevi. \n",
        "I enjoy teaching and learning NLP.\"\"\")\n",
        "  \n",
        "doc = nlp(text)\n",
        "  \n",
        "# Token and Tag\n",
        "for token in doc:\n",
        "  print(token, token.pos_)\n",
        "  \n",
        "# To Print list of Verb tokens\n",
        "print(\"Verbs:\", [token.text for token in doc if token.pos_ == \"VERB\"])"
      ]
    },
    {
      "cell_type": "code",
      "source": [
        ""
      ],
      "metadata": {
        "id": "NHJa-hKmpXb-"
      },
      "execution_count": null,
      "outputs": []
    }
  ]
}